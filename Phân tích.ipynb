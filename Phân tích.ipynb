{
 "cells": [
  {
   "cell_type": "markdown",
   "metadata": {},
   "source": [
    "## Tải thư viện cần thiết."
   ]
  },
  {
   "cell_type": "code",
   "execution_count": 2,
   "metadata": {},
   "outputs": [
    {
     "name": "stdout",
     "output_type": "stream",
     "text": [
      "Requirement already satisfied: matplotlib in /home/codespace/.local/lib/python3.10/site-packages (3.8.1)\n",
      "Requirement already satisfied: pandas in /home/codespace/.local/lib/python3.10/site-packages (2.1.2)\n",
      "Requirement already satisfied: numpy in /home/codespace/.local/lib/python3.10/site-packages (1.26.1)\n",
      "Requirement already satisfied: seaborn in /home/codespace/.local/lib/python3.10/site-packages (0.13.0)\n",
      "Collecting wordcloud\n",
      "  Downloading wordcloud-1.9.2-cp310-cp310-manylinux_2_17_x86_64.manylinux2014_x86_64.whl.metadata (3.3 kB)\n",
      "Requirement already satisfied: contourpy>=1.0.1 in /home/codespace/.local/lib/python3.10/site-packages (from matplotlib) (1.1.1)\n",
      "Requirement already satisfied: cycler>=0.10 in /home/codespace/.local/lib/python3.10/site-packages (from matplotlib) (0.12.1)\n",
      "Requirement already satisfied: fonttools>=4.22.0 in /home/codespace/.local/lib/python3.10/site-packages (from matplotlib) (4.43.1)\n",
      "Requirement already satisfied: kiwisolver>=1.3.1 in /home/codespace/.local/lib/python3.10/site-packages (from matplotlib) (1.4.5)\n",
      "Requirement already satisfied: packaging>=20.0 in /home/codespace/.local/lib/python3.10/site-packages (from matplotlib) (23.2)\n",
      "Requirement already satisfied: pillow>=8 in /home/codespace/.local/lib/python3.10/site-packages (from matplotlib) (10.1.0)\n",
      "Requirement already satisfied: pyparsing>=2.3.1 in /home/codespace/.local/lib/python3.10/site-packages (from matplotlib) (3.1.1)\n",
      "Requirement already satisfied: python-dateutil>=2.7 in /home/codespace/.local/lib/python3.10/site-packages (from matplotlib) (2.8.2)\n",
      "Requirement already satisfied: pytz>=2020.1 in /home/codespace/.local/lib/python3.10/site-packages (from pandas) (2023.3.post1)\n",
      "Requirement already satisfied: tzdata>=2022.1 in /home/codespace/.local/lib/python3.10/site-packages (from pandas) (2023.3)\n",
      "Requirement already satisfied: six>=1.5 in /home/codespace/.local/lib/python3.10/site-packages (from python-dateutil>=2.7->matplotlib) (1.16.0)\n",
      "Downloading wordcloud-1.9.2-cp310-cp310-manylinux_2_17_x86_64.manylinux2014_x86_64.whl (455 kB)\n",
      "\u001b[2K   \u001b[90m━━━━━━━━━━━━━━━━━━━━━━━━━━━━━━━━━━━━━━━━\u001b[0m \u001b[32m455.4/455.4 kB\u001b[0m \u001b[31m7.4 MB/s\u001b[0m eta \u001b[36m0:00:00\u001b[0m:00:01\u001b[0m\n",
      "\u001b[?25hInstalling collected packages: wordcloud\n",
      "Successfully installed wordcloud-1.9.2\n",
      "Note: you may need to restart the kernel to use updated packages.\n"
     ]
    }
   ],
   "source": [
    "%pip install matplotlib pandas numpy seaborn wordcloud"
   ]
  },
  {
   "cell_type": "markdown",
   "metadata": {},
   "source": [
    "## Thông tin sơ lược."
   ]
  },
  {
   "cell_type": "code",
   "execution_count": 3,
   "metadata": {},
   "outputs": [],
   "source": [
    "import numpy as np\n",
    "import pandas as pd\n",
    "import matplotlib.pyplot as plt\n",
    "import seaborn as sns"
   ]
  },
  {
   "cell_type": "code",
   "execution_count": 17,
   "metadata": {},
   "outputs": [
    {
     "data": {
      "text/plain": [
       "100"
      ]
     },
     "execution_count": 17,
     "metadata": {},
     "output_type": "execute_result"
    }
   ],
   "source": [
    "# Đọc file csv sau khi lưu, bao gồm 100 post.\n",
    "raw_df = pd.read_csv('Data/hotwheels.csv')\n",
    "len(raw_df)"
   ]
  },
  {
   "cell_type": "code",
   "execution_count": 18,
   "metadata": {},
   "outputs": [
    {
     "name": "stdout",
     "output_type": "stream",
     "text": [
      "<class 'pandas.core.frame.DataFrame'>\n",
      "RangeIndex: 100 entries, 0 to 99\n",
      "Data columns (total 53 columns):\n",
      " #   Column                         Non-Null Count  Dtype  \n",
      "---  ------                         --------------  -----  \n",
      " 0   post_id                        100 non-null    int64  \n",
      " 1   text                           100 non-null    object \n",
      " 2   post_text                      67 non-null     object \n",
      " 3   shared_text                    33 non-null     object \n",
      " 4   original_text                  0 non-null      float64\n",
      " 5   time                           100 non-null    object \n",
      " 6   timestamp                      100 non-null    int64  \n",
      " 7   image                          25 non-null     object \n",
      " 8   image_lowquality               100 non-null    object \n",
      " 9   images                         100 non-null    object \n",
      " 10  images_description             100 non-null    object \n",
      " 11  images_lowquality              100 non-null    object \n",
      " 12  images_lowquality_description  100 non-null    object \n",
      " 13  video                          45 non-null     object \n",
      " 14  video_duration_seconds         0 non-null      float64\n",
      " 15  video_height                   0 non-null      float64\n",
      " 16  video_id                       45 non-null     float64\n",
      " 17  video_quality                  0 non-null      float64\n",
      " 18  video_size_MB                  0 non-null      float64\n",
      " 19  video_thumbnail                45 non-null     object \n",
      " 20  video_watches                  0 non-null      float64\n",
      " 21  video_width                    0 non-null      float64\n",
      " 22  likes                          100 non-null    int64  \n",
      " 23  comments                       100 non-null    int64  \n",
      " 24  shares                         100 non-null    int64  \n",
      " 25  post_url                       100 non-null    object \n",
      " 26  link                           34 non-null     object \n",
      " 27  links                          100 non-null    object \n",
      " 28  user_id                        100 non-null    int64  \n",
      " 29  username                       100 non-null    object \n",
      " 30  user_url                       100 non-null    object \n",
      " 31  is_live                        100 non-null    bool   \n",
      " 32  factcheck                      0 non-null      float64\n",
      " 33  shared_post_id                 0 non-null      float64\n",
      " 34  shared_time                    0 non-null      float64\n",
      " 35  shared_user_id                 0 non-null      float64\n",
      " 36  shared_username                0 non-null      float64\n",
      " 37  shared_post_url                0 non-null      float64\n",
      " 38  available                      100 non-null    bool   \n",
      " 39  comments_full                  100 non-null    object \n",
      " 40  reactors                       11 non-null     object \n",
      " 41  w3_fb_url                      11 non-null     object \n",
      " 42  reactions                      11 non-null     object \n",
      " 43  reaction_count                 100 non-null    int64  \n",
      " 44  with                           31 non-null     object \n",
      " 45  page_id                        100 non-null    int64  \n",
      " 46  sharers                        0 non-null      float64\n",
      " 47  image_id                       3 non-null      float64\n",
      " 48  image_ids                      100 non-null    object \n",
      " 49  video_ids                      22 non-null     object \n",
      " 50  videos                         22 non-null     object \n",
      " 51  was_live                       100 non-null    bool   \n",
      " 52  fetched_time                   11 non-null     object \n",
      "dtypes: bool(3), float64(16), int64(8), object(26)\n",
      "memory usage: 39.5+ KB\n"
     ]
    }
   ],
   "source": [
    "# Thông tin về dữ liệu của dataframe.\n",
    "raw_df.info()"
   ]
  },
  {
   "cell_type": "code",
   "execution_count": 33,
   "metadata": {},
   "outputs": [],
   "source": [
    "# Lượt tương tác (reactions, comments và shares) của bài viết gần nhất.\n",
    "first_row = raw_df.iloc[0]\n",
    "reactions = dict(eval(first_row['reactions']))\n",
    "reactions[\"shares\"] = first_row['shares']\n",
    "reactions[\"comments\"] = first_row['comments']"
   ]
  },
  {
   "cell_type": "code",
   "execution_count": 80,
   "metadata": {},
   "outputs": [
    {
     "data": {
      "text/plain": [
       "<matplotlib.collections.PathCollection at 0x7f0150afd4e0>"
      ]
     },
     "execution_count": 80,
     "metadata": {},
     "output_type": "execute_result"
    },
    {
     "data": {
      "image/png": "[encoded data removed]",
      "text/plain": [
       "<Figure size 640x480 with 1 Axes>"
      ]
     },
     "metadata": {},
     "output_type": "display_data"
    }
   ],
   "source": [
    "x = reactions.keys()\n",
    "y = reactions.values()\n",
    "plt.scatter(x,y)"
   ]
  },
  {
   "cell_type": "markdown",
   "metadata": {},
   "source": [
    "Tương tác của bài viết đầu tiên chủ yếu là \"like\" và \"love\""
   ]
  },
  {
   "cell_type": "code",
   "execution_count": 34,
   "metadata": {},
   "outputs": [
    {
     "data": {
      "text/html": [
       "<div>\n",
       "<style scoped>\n",
       "    .dataframe tbody tr th:only-of-type {\n",
       "        vertical-align: middle;\n",
       "    }\n",
       "\n",
       "    .dataframe tbody tr th {\n",
       "        vertical-align: top;\n",
       "    }\n",
       "\n",
       "    .dataframe thead th {\n",
       "        text-align: right;\n",
       "    }\n",
       "</style>\n",
       "<table border=\"1\" class=\"dataframe\">\n",
       "  <thead>\n",
       "    <tr style=\"text-align: right;\">\n",
       "      <th></th>\n",
       "      <th>post_id</th>\n",
       "      <th>text</th>\n",
       "      <th>reactions</th>\n",
       "      <th>reaction_count</th>\n",
       "    </tr>\n",
       "  </thead>\n",
       "  <tbody>\n",
       "    <tr>\n",
       "      <th>0</th>\n",
       "      <td>663497495969085</td>\n",
       "      <td>Only ten cars remain but only one car will tak...</td>\n",
       "      <td>{'like': 1367, 'love': 661, 'wow': 15, 'care':...</td>\n",
       "      <td>2065</td>\n",
       "    </tr>\n",
       "    <tr>\n",
       "      <th>1</th>\n",
       "      <td>662533809398787</td>\n",
       "      <td>Challengers, let’s race full speed ahead this ...</td>\n",
       "      <td>{'like': 9}</td>\n",
       "      <td>9</td>\n",
       "    </tr>\n",
       "    <tr>\n",
       "      <th>2</th>\n",
       "      <td>662301126088722</td>\n",
       "      <td>Tune in this Saturday for the Hot Wheels Legen...</td>\n",
       "      <td>{'like': 219, 'love': 58, 'wow': 1, 'care': 4}</td>\n",
       "      <td>282</td>\n",
       "    </tr>\n",
       "    <tr>\n",
       "      <th>3</th>\n",
       "      <td>661756316143203</td>\n",
       "      <td>This Saturday marks the sixth Hot Wheels Legen...</td>\n",
       "      <td>{'like': 1133, 'love': 496, 'haha': 1, 'wow': ...</td>\n",
       "      <td>1670</td>\n",
       "    </tr>\n",
       "    <tr>\n",
       "      <th>4</th>\n",
       "      <td>1276112246404579</td>\n",
       "      <td>Join us for the Semi-Finals of the Hot Wheels ...</td>\n",
       "      <td>{'like': 249, 'love': 81, 'haha': 1, 'wow': 2,...</td>\n",
       "      <td>335</td>\n",
       "    </tr>\n",
       "    <tr>\n",
       "      <th>...</th>\n",
       "      <td>...</td>\n",
       "      <td>...</td>\n",
       "      <td>...</td>\n",
       "      <td>...</td>\n",
       "    </tr>\n",
       "    <tr>\n",
       "      <th>95</th>\n",
       "      <td>130770646693712</td>\n",
       "      <td>SUN, SEP 11\\nHot Wheels Monster Trucks Live!</td>\n",
       "      <td>NaN</td>\n",
       "      <td>19</td>\n",
       "    </tr>\n",
       "    <tr>\n",
       "      <th>96</th>\n",
       "      <td>998235587977759</td>\n",
       "      <td>SUN, SEP 4\\nHot Wheels Monster Trucks Live!</td>\n",
       "      <td>NaN</td>\n",
       "      <td>20</td>\n",
       "    </tr>\n",
       "    <tr>\n",
       "      <th>97</th>\n",
       "      <td>300656448999300</td>\n",
       "      <td>SUN, SEP 4\\nHot Wheels Monster Trucks Live!</td>\n",
       "      <td>NaN</td>\n",
       "      <td>32</td>\n",
       "    </tr>\n",
       "    <tr>\n",
       "      <th>98</th>\n",
       "      <td>600244618961040</td>\n",
       "      <td>Join Hot Wheels, NBC, Rutledge Wood and Dalal ...</td>\n",
       "      <td>NaN</td>\n",
       "      <td>1000</td>\n",
       "    </tr>\n",
       "    <tr>\n",
       "      <th>99</th>\n",
       "      <td>599621192356716</td>\n",
       "      <td>Meet 'Tootsie', a 1985 Mercedes-Benz 300D, who...</td>\n",
       "      <td>NaN</td>\n",
       "      <td>1000</td>\n",
       "    </tr>\n",
       "  </tbody>\n",
       "</table>\n",
       "<p>100 rows × 4 columns</p>\n",
       "</div>"
      ],
      "text/plain": [
       "             post_id                                               text  \\\n",
       "0    663497495969085  Only ten cars remain but only one car will tak...   \n",
       "1    662533809398787  Challengers, let’s race full speed ahead this ...   \n",
       "2    662301126088722  Tune in this Saturday for the Hot Wheels Legen...   \n",
       "3    661756316143203  This Saturday marks the sixth Hot Wheels Legen...   \n",
       "4   1276112246404579  Join us for the Semi-Finals of the Hot Wheels ...   \n",
       "..               ...                                                ...   \n",
       "95   130770646693712       SUN, SEP 11\\nHot Wheels Monster Trucks Live!   \n",
       "96   998235587977759        SUN, SEP 4\\nHot Wheels Monster Trucks Live!   \n",
       "97   300656448999300        SUN, SEP 4\\nHot Wheels Monster Trucks Live!   \n",
       "98   600244618961040  Join Hot Wheels, NBC, Rutledge Wood and Dalal ...   \n",
       "99   599621192356716  Meet 'Tootsie', a 1985 Mercedes-Benz 300D, who...   \n",
       "\n",
       "                                            reactions  reaction_count  \n",
       "0   {'like': 1367, 'love': 661, 'wow': 15, 'care':...            2065  \n",
       "1                                         {'like': 9}               9  \n",
       "2      {'like': 219, 'love': 58, 'wow': 1, 'care': 4}             282  \n",
       "3   {'like': 1133, 'love': 496, 'haha': 1, 'wow': ...            1670  \n",
       "4   {'like': 249, 'love': 81, 'haha': 1, 'wow': 2,...             335  \n",
       "..                                                ...             ...  \n",
       "95                                                NaN              19  \n",
       "96                                                NaN              20  \n",
       "97                                                NaN              32  \n",
       "98                                                NaN            1000  \n",
       "99                                                NaN            1000  \n",
       "\n",
       "[100 rows x 4 columns]"
      ]
     },
     "execution_count": 34,
     "metadata": {},
     "output_type": "execute_result"
    }
   ],
   "source": [
    "# Số reactions của mỗi bài viết.\n",
    "y = raw_df[['post_id', 'text', 'reactions', 'reaction_count']]\n",
    "y"
   ]
  },
  {
   "cell_type": "markdown",
   "metadata": {},
   "source": [
    "## ====================================================================================================="
   ]
  },
  {
   "cell_type": "markdown",
   "metadata": {},
   "source": [
    "## Bài viết có số reactions lớn nhất và bé nhất."
   ]
  },
  {
   "cell_type": "code",
   "execution_count": 64,
   "metadata": {},
   "outputs": [
    {
     "data": {
      "text/html": [
       "<div>\n",
       "<style scoped>\n",
       "    .dataframe tbody tr th:only-of-type {\n",
       "        vertical-align: middle;\n",
       "    }\n",
       "\n",
       "    .dataframe tbody tr th {\n",
       "        vertical-align: top;\n",
       "    }\n",
       "\n",
       "    .dataframe thead th {\n",
       "        text-align: right;\n",
       "    }\n",
       "</style>\n",
       "<table border=\"1\" class=\"dataframe\">\n",
       "  <thead>\n",
       "    <tr style=\"text-align: right;\">\n",
       "      <th></th>\n",
       "      <th>post_id</th>\n",
       "      <th>post_text</th>\n",
       "      <th>time</th>\n",
       "      <th>reaction_count</th>\n",
       "      <th>was_live</th>\n",
       "      <th>video_id</th>\n",
       "    </tr>\n",
       "  </thead>\n",
       "  <tbody>\n",
       "    <tr>\n",
       "      <th>45</th>\n",
       "      <td>636367022015466</td>\n",
       "      <td>Phoenix's creative garage spirit shines! 🏁🔥 Check out some of the best custom cars and moments from today, where passion met creativity in the desert sun! ☀️🚗 #HotWheelsLegends</td>\n",
       "      <td>2023-09-23 23:30:25</td>\n",
       "      <td>9500</td>\n",
       "      <td>False</td>\n",
       "      <td>3.396527e+14</td>\n",
       "    </tr>\n",
       "  </tbody>\n",
       "</table>\n",
       "</div>"
      ],
      "text/plain": [
       "            post_id  \\\n",
       "45  636367022015466   \n",
       "\n",
       "                                                                                                                                                                           post_text  \\\n",
       "45  Phoenix's creative garage spirit shines! 🏁🔥 Check out some of the best custom cars and moments from today, where passion met creativity in the desert sun! ☀️🚗 #HotWheelsLegends   \n",
       "\n",
       "                   time  reaction_count  was_live      video_id  \n",
       "45  2023-09-23 23:30:25            9500     False  3.396527e+14  "
      ]
     },
     "execution_count": 64,
     "metadata": {},
     "output_type": "execute_result"
    }
   ],
   "source": [
    "# Bài viết có số reactions lớn nhất của trong 100 bài crawl về - 9500 reactions.\n",
    "\n",
    "highest_reaction_count = max(raw_df['reaction_count'])\n",
    "post1 = raw_df[raw_df['reaction_count'] == highest_reaction_count]\n",
    "post1[['post_id', 'post_text', 'time', 'reaction_count', 'was_live', 'video_id']]"
   ]
  },
  {
   "cell_type": "code",
   "execution_count": 60,
   "metadata": {},
   "outputs": [
    {
     "data": {
      "text/html": [
       "<div>\n",
       "<style scoped>\n",
       "    .dataframe tbody tr th:only-of-type {\n",
       "        vertical-align: middle;\n",
       "    }\n",
       "\n",
       "    .dataframe tbody tr th {\n",
       "        vertical-align: top;\n",
       "    }\n",
       "\n",
       "    .dataframe thead th {\n",
       "        text-align: right;\n",
       "    }\n",
       "</style>\n",
       "<table border=\"1\" class=\"dataframe\">\n",
       "  <thead>\n",
       "    <tr style=\"text-align: right;\">\n",
       "      <th></th>\n",
       "      <th>post_id</th>\n",
       "      <th>post_text</th>\n",
       "      <th>time</th>\n",
       "      <th>reaction_count</th>\n",
       "      <th>was_live</th>\n",
       "    </tr>\n",
       "  </thead>\n",
       "  <tbody>\n",
       "    <tr>\n",
       "      <th>1</th>\n",
       "      <td>662533809398787</td>\n",
       "      <td>Challengers, let’s race full speed ahead this 11 Nov! ENJOY UP TO 70% OFF with Shopee 11.11 Big Sale &amp; Lazada’s 11.11 Biggest Sale of The Year!\\n\\n🗓️ BEST DEALS ONLY on 11.11 🗓️\\n🤩 UP TO 70% OFF\\n🤩 Shopee : EXTRA UP TO $26 OFF Voucher*\\n🤩 Lazada : EXTRA UP TO $22 OFF Voucher*\\n*T&amp;Cs apply.\\n\\n💡🎁GIFT-WITH-PURCHASE AWAITS EACH STORE💡\\n🧡Shopee: FREE 1x Thomas Storage Box with min. purchase of $60 &amp; above on any products.\\n💙Lazada: FREE 1x Hot Wheels Limited Edition Drawstring Bag with min. purchase of $40 &amp; above on any products.\\n\\n🚗🏎️💨 Shop &amp; build tracks, zoom, flip, stunt, crash… all the way with Hot Wheels City, Monster Trucks, and more!🔥\\n\\n🎁Don't miss out, add-to-cart the most exciting 11.11 deals now while stocks last!⏰\\n\\nSHOP NOW at\\n🧡https://bit.ly/MattelStore_ShopeeSG\\n💙https://bit.ly/MattelStore_LazadaSG\\n\\n#ShopeeSG #Shopee1111BigSale #Lazada1111 #LazadaSG #MattelSG</td>\n",
       "      <td>2023-11-08 06:00:47</td>\n",
       "      <td>9</td>\n",
       "      <td>False</td>\n",
       "    </tr>\n",
       "  </tbody>\n",
       "</table>\n",
       "</div>"
      ],
      "text/plain": [
       "           post_id  \\\n",
       "1  662533809398787   \n",
       "\n",
       "                                                                                                                                                                                                                                                                                                                                                                                                                                                                                                                                                                                                                                                                                                                                                                                                                                                                                                                   post_text  \\\n",
       "1  Challengers, let’s race full speed ahead this 11 Nov! ENJOY UP TO 70% OFF with Shopee 11.11 Big Sale & Lazada’s 11.11 Biggest Sale of The Year!\\n\\n🗓️ BEST DEALS ONLY on 11.11 🗓️\\n🤩 UP TO 70% OFF\\n🤩 Shopee : EXTRA UP TO $26 OFF Voucher*\\n🤩 Lazada : EXTRA UP TO $22 OFF Voucher*\\n*T&Cs apply.\\n\\n💡🎁GIFT-WITH-PURCHASE AWAITS EACH STORE💡\\n🧡Shopee: FREE 1x Thomas Storage Box with min. purchase of $60 & above on any products.\\n💙Lazada: FREE 1x Hot Wheels Limited Edition Drawstring Bag with min. purchase of $40 & above on any products.\\n\\n🚗🏎️💨 Shop & build tracks, zoom, flip, stunt, crash… all the way with Hot Wheels City, Monster Trucks, and more!🔥\\n\\n🎁Don't miss out, add-to-cart the most exciting 11.11 deals now while stocks last!⏰\\n\\nSHOP NOW at\\n🧡https://bit.ly/MattelStore_ShopeeSG\\n💙https://bit.ly/MattelStore_LazadaSG\\n\\n#ShopeeSG #Shopee1111BigSale #Lazada1111 #LazadaSG #MattelSG   \n",
       "\n",
       "                  time  reaction_count  was_live  \n",
       "1  2023-11-08 06:00:47               9     False  "
      ]
     },
     "execution_count": 60,
     "metadata": {},
     "output_type": "execute_result"
    }
   ],
   "source": [
    "# Bài viết có số reactions thấp nhất trong 100 bài crawl về - 9 reactions.\n",
    "\n",
    "lowest_reaction_count = min(raw_df['reaction_count'])\n",
    "post2 = raw_df[raw_df['reaction_count'] == lowest_reaction_count]\n",
    "post2[['post_id', 'post_text', 'time', 'reaction_count', 'was_live']]"
   ]
  },
  {
   "cell_type": "code",
   "execution_count": 63,
   "metadata": {},
   "outputs": [
    {
     "data": {
      "text/plain": [
       "707.65"
      ]
     },
     "execution_count": 63,
     "metadata": {},
     "output_type": "execute_result"
    }
   ],
   "source": [
    "# Số reactions trung bình của 100 bài.\n",
    "\n",
    "average_reaction_count = raw_df['reaction_count'].mean()\n",
    "average_reaction_count"
   ]
  },
  {
   "cell_type": "code",
   "execution_count": 61,
   "metadata": {},
   "outputs": [
    {
     "name": "stdout",
     "output_type": "stream",
     "text": [
      "45    2023-09-23 23:30:25\n",
      "Name: time, dtype: object\n",
      "1    2023-11-08 06:00:47\n",
      "Name: time, dtype: object\n"
     ]
    }
   ],
   "source": [
    "# Thời gian của hai bài đăng trên.\n",
    "\n",
    "print(post1['time']) \n",
    "print(post2['time'])\n"
   ]
  },
  {
   "cell_type": "markdown",
   "metadata": {},
   "source": [
    "Như ta có thể thấy trong 3 cells ở trên, có sự khác biệt rất lớn giữa số reactions lớn nhất, nhỏ nhất và bình quân. Ta thấy rằng sự tương tác không đồng đều, có thể kết luận một phần là do thị hiếu người dùng, xu hướng tương tác, và do thời gian đăng bài. \n",
    "\n",
    "Tính theo múi giờ VN, bài nhiều reations nhất được đăng lúc 23h30 tối, quy đổi ra múi giờ bình quân bên Mĩ là 11h30 trưa - là ban ngày và giờ nghỉ trưa nên nhiều người sẽ thấy được bài viết. Ngược lại, bài viết ít reactions nhất được đăng lúc 6h00 phút sáng, tức là khoảng 6h00 tối bên Mĩ - là thời gian mọi thứ trở nên bận bịu hơn (tan làm, nấu bữa tối, trông con, đón con, tham gia giao thông,...) nên số reactions sẽ giảm mạnh. \n",
    "\n",
    "\n",
    "Ta cùng xem kĩ hơn về nội dung bài post:"
   ]
  },
  {
   "cell_type": "code",
   "execution_count": 84,
   "metadata": {},
   "outputs": [
    {
     "data": {
      "text/plain": [
       "45    Phoenix's creative garage spirit shines! 🏁🔥 Check out some of the best custom cars and moments from today, where passion met creativity in the desert sun! ☀️🚗 #HotWheelsLegends\n",
       "Name: post_text, dtype: object"
      ]
     },
     "execution_count": 84,
     "metadata": {},
     "output_type": "execute_result"
    }
   ],
   "source": [
    "# Lấy ra nội dung bài đăng nhiều reactions nhất.\n",
    "\n",
    "content1 = post1['post_text']\n",
    "pd.set_option('display.max_colwidth', None)\n",
    "content1"
   ]
  },
  {
   "cell_type": "code",
   "execution_count": 85,
   "metadata": {},
   "outputs": [
    {
     "data": {
      "text/plain": [
       "1    Challengers, let’s race full speed ahead this 11 Nov! ENJOY UP TO 70% OFF with Shopee 11.11 Big Sale & Lazada’s 11.11 Biggest Sale of The Year!\\n\\n🗓️ BEST DEALS ONLY on 11.11 🗓️\\n🤩 UP TO 70% OFF\\n🤩 Shopee : EXTRA UP TO $26 OFF Voucher*\\n🤩 Lazada : EXTRA UP TO $22 OFF Voucher*\\n*T&Cs apply.\\n\\n💡🎁GIFT-WITH-PURCHASE AWAITS EACH STORE💡\\n🧡Shopee: FREE 1x Thomas Storage Box with min. purchase of $60 & above on any products.\\n💙Lazada: FREE 1x Hot Wheels Limited Edition Drawstring Bag with min. purchase of $40 & above on any products.\\n\\n🚗🏎️💨 Shop & build tracks, zoom, flip, stunt, crash… all the way with Hot Wheels City, Monster Trucks, and more!🔥\\n\\n🎁Don't miss out, add-to-cart the most exciting 11.11 deals now while stocks last!⏰\\n\\nSHOP NOW at\\n🧡https://bit.ly/MattelStore_ShopeeSG\\n💙https://bit.ly/MattelStore_LazadaSG\\n\\n#ShopeeSG #Shopee1111BigSale #Lazada1111 #LazadaSG #MattelSG\n",
       "Name: post_text, dtype: object"
      ]
     },
     "execution_count": 85,
     "metadata": {},
     "output_type": "execute_result"
    }
   ],
   "source": [
    "# Lấy ra nội dung bài đăng ít reactions nhất.\n",
    "\n",
    "content2 = post2['post_text']\n",
    "pd.set_option('display.max_colwidth', None)\n",
    "content2"
   ]
  },
  {
   "cell_type": "markdown",
   "metadata": {},
   "source": [
    "(Lập luận này chỉ dựa trên suy luận, phân tích và ý kiến cá nhân).\n",
    "\n",
    "Post có nhiều reactions nhất là một video recap lại sự kiện độ xe quy mô toàn nước Mĩ (Hotwheels Legends Tour), được tổ chức bởi công ty Mattel, nhằm chọn ra những mẫu mã được yêu thích nhất để làm thành mô hình tỷ lệ 1:64. Video được đầu tư chỉn chu và bao gồm nhiều chiếc xe đẹp, góp phần đẩy mạnh tương tác. Hơn nữa, sự kiện chỉ diễn ra tại Mĩ, nhưng đồ chơi Mattel lại được yêu thích toàn cầu. Vì lý do đó, để lại reactions cũng là một cách để người theo dõi từ xa bày tỏ sự yêu thích tới những chiếc xe và sự kiện.\n",
    "\n",
    "Trong khi đó, post ít reations nhất lại là một tin quảng bá ngày sale, khuyến mại trên Shopee và Lazada. Thông thường bài viết này chỉ được đăng với mục đích thông tin, chứ không phải để thu tương tác nên không được đầu tư quá kĩ lưỡng. Vì vậy, có ít reactions là điều có thể suy ra được."
   ]
  },
  {
   "cell_type": "markdown",
   "metadata": {},
   "source": [
    "## ====================================================================================================================================================="
   ]
  },
  {
   "cell_type": "markdown",
   "metadata": {},
   "source": [
    "## Sự biến động của lượng reactions theo dòng thời gian."
   ]
  },
  {
   "cell_type": "code",
   "execution_count": 14,
   "metadata": {},
   "outputs": [],
   "source": [
    "# Lấy ra dataframe check gồm 3 cột time, timestamp và reaction_count để thống kê, và đảo lại dataframe do check được xếp từ thời điểm gần nhất tới xa nhất (để khi vẽ biểu đồ sẽ thuận nhìn và logic hơn).\n",
    "check = raw_df[['time', 'timestamp', 'reaction_count']].iloc[::-1]"
   ]
  },
  {
   "cell_type": "code",
   "execution_count": 82,
   "metadata": {},
   "outputs": [
    {
     "data": {
      "text/plain": [
       "<matplotlib.lines.Line2D at 0x7f0150967ee0>"
      ]
     },
     "execution_count": 82,
     "metadata": {},
     "output_type": "execute_result"
    },
    {
     "data": {
      "image/png": "[encoded data removed]",
      "text/plain": [
       "<Figure size 640x480 with 1 Axes>"
      ]
     },
     "metadata": {},
     "output_type": "display_data"
    }
   ],
   "source": [
    "# biểu đồ thể hiện hiệu xuất react của các bài đăng theo thời gian từ qúa khứ đến hiện tại\n",
    "dates = check['timestamp']\n",
    "y = check['reaction_count']\n",
    "plt.plot(dates,y)\n",
    "plt.axhline(y=np.nanmean(y), color = 'red', linestyle = '--', linewidth = 1, label = 'avg')\n"
   ]
  },
  {
   "cell_type": "markdown",
   "metadata": {},
   "source": [
    "Như ta có thể thấy trong biểu đồ đường ở trên, fanpage của \"Hotwheels\" có lượt số tương tác không ổn định theo thời gian, với nhiều những điểm nhọn (spikes) phân bố không đồng đều. Lượng reaction thấp nhất được ghi nhận là 9, và cao nhất là 9500, với điểm nhọn nổi bật nằm giữa timestamp 1.694 và 1.696. Lượng react trung bình trên trục thời gian giới hạn là ~ 707 reacts, được biểu diễn bằng đường nét đứt màu đỏ."
   ]
  },
  {
   "cell_type": "code",
   "execution_count": 83,
   "metadata": {},
   "outputs": [
    {
     "data": {
      "text/plain": [
       "<matplotlib.lines.Line2D at 0x7f01509cfe20>"
      ]
     },
     "execution_count": 83,
     "metadata": {},
     "output_type": "execute_result"
    },
    {
     "data": {
      "image/png": "[encoded data removed]",
      "text/plain": [
       "<Figure size 640x480 with 1 Axes>"
      ]
     },
     "metadata": {},
     "output_type": "display_data"
    }
   ],
   "source": [
    "plt.scatter(dates,y)\n",
    "plt.axhline(y=np.nanmean(y), color = 'red', linestyle = '--', linewidth = 1, label = 'avg')"
   ]
  },
  {
   "cell_type": "markdown",
   "metadata": {},
   "source": [
    "Đổi qua biểu đồ phân tán, ta thấy khá nhiều bài viết có số reactions nằm dưới mức bình quân, một số nhỏ hơn bài viết trên trung bình, và ít bài viết xấp xỉ bình quân."
   ]
  },
  {
   "cell_type": "code",
   "execution_count": null,
   "metadata": {},
   "outputs": [],
   "source": []
  },
  {
   "cell_type": "code",
   "execution_count": null,
   "metadata": {},
   "outputs": [],
   "source": []
  },
  {
   "cell_type": "code",
   "execution_count": null,
   "metadata": {},
   "outputs": [],
   "source": []
  }
 ],
 "metadata": {
  "kernelspec": {
   "display_name": "Python 3 (ipykernel)",
   "language": "python",
   "name": "python3"
  },
  "language_info": {
   "codemirror_mode": {
    "name": "ipython",
    "version": 3
   },
   "file_extension": ".py",
   "mimetype": "text/x-python",
   "name": "python",
   "nbconvert_exporter": "python",
   "pygments_lexer": "ipython3",
   "version": "3.10.8"
  }
 },
 "nbformat": 4,
 "nbformat_minor": 2
}
