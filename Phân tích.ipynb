{
 "cells": [
  {
   "cell_type": "markdown",
   "metadata": {},
   "source": [
    "## Tải thư viện cần thiết."
   ]
  },
  {
   "cell_type": "code",
   "execution_count": 1,
   "metadata": {},
   "outputs": [
    {
     "name": "stdout",
     "output_type": "stream",
     "text": [
      "Requirement already satisfied: matplotlib in c:\\users\\hp\\appdata\\local\\programs\\python\\python312\\lib\\site-packages (3.8.1)Note: you may need to restart the kernel to use updated packages.\n",
      "\n",
      "Requirement already satisfied: pandas in c:\\users\\hp\\appdata\\local\\programs\\python\\python312\\lib\\site-packages (2.1.2)\n",
      "Requirement already satisfied: numpy in c:\\users\\hp\\appdata\\local\\programs\\python\\python312\\lib\\site-packages (1.26.1)\n",
      "Requirement already satisfied: seaborn in c:\\users\\hp\\appdata\\local\\programs\\python\\python312\\lib\\site-packages (0.13.0)\n",
      "Collecting wordcloud\n",
      "  Downloading wordcloud-1.9.2.tar.gz (222 kB)\n",
      "     ---------------------------------------- 0.0/222.8 kB ? eta -:--:--\n",
      "     - -------------------------------------- 10.2/222.8 kB ? eta -:--:--\n",
      "     ------ ------------------------------ 41.0/222.8 kB 393.8 kB/s eta 0:00:01\n",
      "     ----------------------------- -------- 174.1/222.8 kB 1.2 MB/s eta 0:00:01\n",
      "     -------------------------------------- 222.8/222.8 kB 1.4 MB/s eta 0:00:00\n",
      "  Installing build dependencies: started\n",
      "  Installing build dependencies: finished with status 'done'\n",
      "  Getting requirements to build wheel: started\n",
      "  Getting requirements to build wheel: finished with status 'error'\n"
     ]
    },
    {
     "name": "stderr",
     "output_type": "stream",
     "text": [
      "  error: subprocess-exited-with-error\n",
      "  \n",
      "  × Getting requirements to build wheel did not run successfully.\n",
      "  │ exit code: 1\n",
      "  ╰─> [29 lines of output]\n",
      "      Traceback (most recent call last):\n",
      "        File \"c:\\Users\\HP\\AppData\\Local\\Programs\\Python\\Python312\\Lib\\site-packages\\pip\\_vendor\\pyproject_hooks\\_in_process\\_in_process.py\", line 353, in <module>\n",
      "          main()\n",
      "        File \"c:\\Users\\HP\\AppData\\Local\\Programs\\Python\\Python312\\Lib\\site-packages\\pip\\_vendor\\pyproject_hooks\\_in_process\\_in_process.py\", line 335, in main\n",
      "          json_out['return_val'] = hook(**hook_input['kwargs'])\n",
      "                                   ^^^^^^^^^^^^^^^^^^^^^^^^^^^^\n",
      "        File \"c:\\Users\\HP\\AppData\\Local\\Programs\\Python\\Python312\\Lib\\site-packages\\pip\\_vendor\\pyproject_hooks\\_in_process\\_in_process.py\", line 118, in get_requires_for_build_wheel\n",
      "          return hook(config_settings)\n",
      "                 ^^^^^^^^^^^^^^^^^^^^^\n",
      "        File \"C:\\Users\\HP\\AppData\\Local\\Temp\\pip-build-env-th4j6m5w\\overlay\\Lib\\site-packages\\setuptools\\build_meta.py\", line 355, in get_requires_for_build_wheel\n",
      "          return self._get_build_requires(config_settings, requirements=['wheel'])\n",
      "                 ^^^^^^^^^^^^^^^^^^^^^^^^^^^^^^^^^^^^^^^^^^^^^^^^^^^^^^^^^^^^^^^^^\n",
      "        File \"C:\\Users\\HP\\AppData\\Local\\Temp\\pip-build-env-th4j6m5w\\overlay\\Lib\\site-packages\\setuptools\\build_meta.py\", line 325, in _get_build_requires\n",
      "          self.run_setup()\n",
      "        File \"C:\\Users\\HP\\AppData\\Local\\Temp\\pip-build-env-th4j6m5w\\overlay\\Lib\\site-packages\\setuptools\\build_meta.py\", line 507, in run_setup\n",
      "          super(_BuildMetaLegacyBackend, self).run_setup(setup_script=setup_script)\n",
      "        File \"C:\\Users\\HP\\AppData\\Local\\Temp\\pip-build-env-th4j6m5w\\overlay\\Lib\\site-packages\\setuptools\\build_meta.py\", line 341, in run_setup\n",
      "          exec(code, locals())\n",
      "        File \"<string>\", line 13, in <module>\n",
      "        File \"C:\\Users\\HP\\AppData\\Local\\Temp\\pip-install-255epuip\\wordcloud_e56282e335dd4077a5c73879b6208490\\versioneer.py\", line 1480, in get_version\n",
      "          return get_versions()[\"version\"]\n",
      "                 ^^^^^^^^^^^^^^\n",
      "        File \"C:\\Users\\HP\\AppData\\Local\\Temp\\pip-install-255epuip\\wordcloud_e56282e335dd4077a5c73879b6208490\\versioneer.py\", line 1412, in get_versions\n",
      "          cfg = get_config_from_root(root)\n",
      "                ^^^^^^^^^^^^^^^^^^^^^^^^^^\n",
      "        File \"C:\\Users\\HP\\AppData\\Local\\Temp\\pip-install-255epuip\\wordcloud_e56282e335dd4077a5c73879b6208490\\versioneer.py\", line 342, in get_config_from_root\n",
      "          parser = configparser.SafeConfigParser()\n",
      "                   ^^^^^^^^^^^^^^^^^^^^^^^^^^^^^\n",
      "      AttributeError: module 'configparser' has no attribute 'SafeConfigParser'. Did you mean: 'RawConfigParser'?\n",
      "      [end of output]\n",
      "  \n",
      "  note: This error originates from a subprocess, and is likely not a problem with pip.\n",
      "error: subprocess-exited-with-error\n",
      "\n",
      "× Getting requirements to build wheel did not run successfully.\n",
      "│ exit code: 1\n",
      "╰─> See above for output.\n",
      "\n",
      "note: This error originates from a subprocess, and is likely not a problem with pip.\n"
     ]
    }
   ],
   "source": [
    "%pip install matplotlib pandas numpy seaborn wordcloud"
   ]
  },
  {
   "cell_type": "markdown",
   "metadata": {},
   "source": [
    "## Phân tích."
   ]
  },
  {
   "cell_type": "code",
   "execution_count": 2,
   "metadata": {},
   "outputs": [],
   "source": [
    "import numpy as np\n",
    "import pandas as pd\n",
    "import matplotlib.pyplot as plt\n",
    "import seaborn as sns"
   ]
  },
  {
   "cell_type": "code",
   "execution_count": 3,
   "metadata": {},
   "outputs": [],
   "source": [
    "raw_df = pd.read_csv('Data/hotwheels.csv')"
   ]
  },
  {
   "cell_type": "code",
   "execution_count": 4,
   "metadata": {},
   "outputs": [
    {
     "name": "stdout",
     "output_type": "stream",
     "text": [
      "<class 'pandas.core.frame.DataFrame'>\n",
      "RangeIndex: 20 entries, 0 to 19\n",
      "Data columns (total 51 columns):\n",
      " #   Column                         Non-Null Count  Dtype  \n",
      "---  ------                         --------------  -----  \n",
      " 0   post_id                        20 non-null     int64  \n",
      " 1   text                           20 non-null     object \n",
      " 2   post_text                      18 non-null     object \n",
      " 3   shared_text                    2 non-null      object \n",
      " 4   original_text                  3 non-null      object \n",
      " 5   time                           20 non-null     object \n",
      " 6   timestamp                      20 non-null     int64  \n",
      " 7   image                          4 non-null      object \n",
      " 8   image_lowquality               20 non-null     object \n",
      " 9   images                         19 non-null     object \n",
      " 10  images_description             19 non-null     object \n",
      " 11  images_lowquality              20 non-null     object \n",
      " 12  images_lowquality_description  20 non-null     object \n",
      " 13  video                          11 non-null     object \n",
      " 14  video_duration_seconds         0 non-null      float64\n",
      " 15  video_height                   0 non-null      float64\n",
      " 16  video_id                       11 non-null     float64\n",
      " 17  video_quality                  0 non-null      float64\n",
      " 18  video_size_MB                  0 non-null      float64\n",
      " 19  video_thumbnail                11 non-null     object \n",
      " 20  video_watches                  0 non-null      float64\n",
      " 21  video_width                    0 non-null      float64\n",
      " 22  likes                          19 non-null     float64\n",
      " 23  comments                       20 non-null     int64  \n",
      " 24  shares                         20 non-null     int64  \n",
      " 25  post_url                       20 non-null     object \n",
      " 26  link                           9 non-null      object \n",
      " 27  links                          20 non-null     object \n",
      " 28  user_id                        20 non-null     int64  \n",
      " 29  username                       20 non-null     object \n",
      " 30  user_url                       20 non-null     object \n",
      " 31  is_live                        20 non-null     bool   \n",
      " 32  factcheck                      0 non-null      float64\n",
      " 33  shared_post_id                 0 non-null      float64\n",
      " 34  shared_time                    0 non-null      float64\n",
      " 35  shared_user_id                 0 non-null      float64\n",
      " 36  shared_username                0 non-null      float64\n",
      " 37  shared_post_url                0 non-null      float64\n",
      " 38  available                      20 non-null     bool   \n",
      " 39  comments_full                  20 non-null     object \n",
      " 40  reactors                       10 non-null     object \n",
      " 41  w3_fb_url                      10 non-null     object \n",
      " 42  reactions                      10 non-null     object \n",
      " 43  reaction_count                 20 non-null     int64  \n",
      " 44  with                           1 non-null      object \n",
      " 45  page_id                        20 non-null     int64  \n",
      " 46  sharers                        0 non-null      float64\n",
      " 47  image_id                       2 non-null      float64\n",
      " 48  image_ids                      20 non-null     object \n",
      " 49  was_live                       20 non-null     bool   \n",
      " 50  fetched_time                   10 non-null     object \n",
      "dtypes: bool(3), float64(16), int64(7), object(25)\n",
      "memory usage: 7.7+ KB\n"
     ]
    }
   ],
   "source": [
    "raw_df.info()"
   ]
  },
  {
   "cell_type": "code",
   "execution_count": 5,
   "metadata": {},
   "outputs": [],
   "source": [
    "first_row = raw_df.iloc[0]\n",
    "reactions = dict(eval(first_row['reactions']))\n",
    "reactions[\"shares\"] = first_row['shares']\n",
    "reactions[\"comments\"] = first_row['comments']"
   ]
  },
  {
   "cell_type": "code",
   "execution_count": 6,
   "metadata": {},
   "outputs": [
    {
     "data": {
      "text/plain": [
       "{'thích': 274,\n",
       " 'yêu thích': 87,\n",
       " 'haha': 1,\n",
       " 'wow': 1,\n",
       " 'buồn': 1,\n",
       " 'shares': 68,\n",
       " 'comments': 141}"
      ]
     },
     "execution_count": 6,
     "metadata": {},
     "output_type": "execute_result"
    }
   ],
   "source": [
    "reactions"
   ]
  },
  {
   "cell_type": "code",
   "execution_count": null,
   "metadata": {},
   "outputs": [],
   "source": []
  },
  {
   "cell_type": "code",
   "execution_count": null,
   "metadata": {},
   "outputs": [],
   "source": []
  },
  {
   "cell_type": "code",
   "execution_count": null,
   "metadata": {},
   "outputs": [],
   "source": []
  }
 ],
 "metadata": {
  "kernelspec": {
   "display_name": "Python 3",
   "language": "python",
   "name": "python3"
  },
  "language_info": {
   "codemirror_mode": {
    "name": "ipython",
    "version": 3
   },
   "file_extension": ".py",
   "mimetype": "text/x-python",
   "name": "python",
   "nbconvert_exporter": "python",
   "pygments_lexer": "ipython3",
   "version": "3.12.0"
  }
 },
 "nbformat": 4,
 "nbformat_minor": 2
}
