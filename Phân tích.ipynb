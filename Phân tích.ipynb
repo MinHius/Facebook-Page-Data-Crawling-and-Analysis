{
 "cells": [
  {
   "cell_type": "markdown",
   "metadata": {},
   "source": [
    "## Tải thư viện cần thiết."
   ]
  },
  {
   "cell_type": "code",
   "execution_count": 4,
   "metadata": {},
   "outputs": [
    {
     "name": "stdout",
     "output_type": "stream",
     "text": [
      "Requirement already satisfied: matplotlib in /home/codespace/.local/lib/python3.10/site-packages (3.8.0)\n",
      "Requirement already satisfied: pandas in /home/codespace/.local/lib/python3.10/site-packages (2.1.1)\n",
      "Requirement already satisfied: numpy in /home/codespace/.local/lib/python3.10/site-packages (1.26.1)\n",
      "Requirement already satisfied: seaborn in /home/codespace/.local/lib/python3.10/site-packages (0.13.0)\n",
      "Requirement already satisfied: wordcloud in /usr/local/python/3.10.8/lib/python3.10/site-packages (1.9.2)\n",
      "Requirement already satisfied: contourpy>=1.0.1 in /home/codespace/.local/lib/python3.10/site-packages (from matplotlib) (1.1.1)\n",
      "Requirement already satisfied: cycler>=0.10 in /home/codespace/.local/lib/python3.10/site-packages (from matplotlib) (0.12.1)\n",
      "Requirement already satisfied: fonttools>=4.22.0 in /home/codespace/.local/lib/python3.10/site-packages (from matplotlib) (4.43.1)\n",
      "Requirement already satisfied: kiwisolver>=1.0.1 in /home/codespace/.local/lib/python3.10/site-packages (from matplotlib) (1.4.5)\n",
      "Requirement already satisfied: packaging>=20.0 in /home/codespace/.local/lib/python3.10/site-packages (from matplotlib) (23.2)\n",
      "Requirement already satisfied: pillow>=6.2.0 in /home/codespace/.local/lib/python3.10/site-packages (from matplotlib) (10.1.0)\n",
      "Requirement already satisfied: pyparsing>=2.3.1 in /home/codespace/.local/lib/python3.10/site-packages (from matplotlib) (3.1.1)\n",
      "Requirement already satisfied: python-dateutil>=2.7 in /home/codespace/.local/lib/python3.10/site-packages (from matplotlib) (2.8.2)\n",
      "Requirement already satisfied: pytz>=2020.1 in /home/codespace/.local/lib/python3.10/site-packages (from pandas) (2023.3.post1)\n",
      "Requirement already satisfied: tzdata>=2022.1 in /home/codespace/.local/lib/python3.10/site-packages (from pandas) (2023.3)\n",
      "Requirement already satisfied: six>=1.5 in /home/codespace/.local/lib/python3.10/site-packages (from python-dateutil>=2.7->matplotlib) (1.16.0)\n",
      "\n",
      "\u001b[1m[\u001b[0m\u001b[34;49mnotice\u001b[0m\u001b[1;39;49m]\u001b[0m\u001b[39;49m A new release of pip is available: \u001b[0m\u001b[31;49m23.3\u001b[0m\u001b[39;49m -> \u001b[0m\u001b[32;49m23.3.1\u001b[0m\n",
      "\u001b[1m[\u001b[0m\u001b[34;49mnotice\u001b[0m\u001b[1;39;49m]\u001b[0m\u001b[39;49m To update, run: \u001b[0m\u001b[32;49mpython3 -m pip install --upgrade pip\u001b[0m\n",
      "Note: you may need to restart the kernel to use updated packages.\n"
     ]
    }
   ],
   "source": [
    "%pip install matplotlib pandas numpy seaborn wordcloud"
   ]
  },
  {
   "cell_type": "markdown",
   "metadata": {},
   "source": [
    "## Phân tích."
   ]
  },
  {
   "cell_type": "code",
   "execution_count": 5,
   "metadata": {},
   "outputs": [],
   "source": [
    "import numpy as np\n",
    "import pandas as pd\n",
    "import matplotlib.pyplot as plt\n",
    "import seaborn as sns"
   ]
  },
  {
   "cell_type": "code",
   "execution_count": 6,
   "metadata": {},
   "outputs": [
    {
     "data": {
      "text/plain": [
       "100"
      ]
     },
     "execution_count": 6,
     "metadata": {},
     "output_type": "execute_result"
    }
   ],
   "source": [
    "raw_df = pd.read_csv('Data/hotwheels.csv')\n",
    "len(raw_df)"
   ]
  },
  {
   "cell_type": "code",
   "execution_count": 7,
   "metadata": {},
   "outputs": [
    {
     "name": "stdout",
     "output_type": "stream",
     "text": [
      "<class 'pandas.core.frame.DataFrame'>\n",
      "RangeIndex: 100 entries, 0 to 99\n",
      "Data columns (total 53 columns):\n",
      " #   Column                         Non-Null Count  Dtype  \n",
      "---  ------                         --------------  -----  \n",
      " 0   post_id                        100 non-null    int64  \n",
      " 1   text                           100 non-null    object \n",
      " 2   post_text                      67 non-null     object \n",
      " 3   shared_text                    33 non-null     object \n",
      " 4   original_text                  0 non-null      float64\n",
      " 5   time                           100 non-null    object \n",
      " 6   timestamp                      100 non-null    int64  \n",
      " 7   image                          25 non-null     object \n",
      " 8   image_lowquality               100 non-null    object \n",
      " 9   images                         100 non-null    object \n",
      " 10  images_description             100 non-null    object \n",
      " 11  images_lowquality              100 non-null    object \n",
      " 12  images_lowquality_description  100 non-null    object \n",
      " 13  video                          45 non-null     object \n",
      " 14  video_duration_seconds         0 non-null      float64\n",
      " 15  video_height                   0 non-null      float64\n",
      " 16  video_id                       45 non-null     float64\n",
      " 17  video_quality                  0 non-null      float64\n",
      " 18  video_size_MB                  0 non-null      float64\n",
      " 19  video_thumbnail                45 non-null     object \n",
      " 20  video_watches                  0 non-null      float64\n",
      " 21  video_width                    0 non-null      float64\n",
      " 22  likes                          100 non-null    int64  \n",
      " 23  comments                       100 non-null    int64  \n",
      " 24  shares                         100 non-null    int64  \n",
      " 25  post_url                       100 non-null    object \n",
      " 26  link                           34 non-null     object \n",
      " 27  links                          100 non-null    object \n",
      " 28  user_id                        100 non-null    int64  \n",
      " 29  username                       100 non-null    object \n",
      " 30  user_url                       100 non-null    object \n",
      " 31  is_live                        100 non-null    bool   \n",
      " 32  factcheck                      0 non-null      float64\n",
      " 33  shared_post_id                 0 non-null      float64\n",
      " 34  shared_time                    0 non-null      float64\n",
      " 35  shared_user_id                 0 non-null      float64\n",
      " 36  shared_username                0 non-null      float64\n",
      " 37  shared_post_url                0 non-null      float64\n",
      " 38  available                      100 non-null    bool   \n",
      " 39  comments_full                  100 non-null    object \n",
      " 40  reactors                       11 non-null     object \n",
      " 41  w3_fb_url                      11 non-null     object \n",
      " 42  reactions                      11 non-null     object \n",
      " 43  reaction_count                 100 non-null    int64  \n",
      " 44  with                           31 non-null     object \n",
      " 45  page_id                        100 non-null    int64  \n",
      " 46  sharers                        0 non-null      float64\n",
      " 47  image_id                       3 non-null      float64\n",
      " 48  image_ids                      100 non-null    object \n",
      " 49  video_ids                      22 non-null     object \n",
      " 50  videos                         22 non-null     object \n",
      " 51  was_live                       100 non-null    bool   \n",
      " 52  fetched_time                   11 non-null     object \n",
      "dtypes: bool(3), float64(16), int64(8), object(26)\n",
      "memory usage: 39.5+ KB\n"
     ]
    }
   ],
   "source": [
    "raw_df.info()"
   ]
  },
  {
   "cell_type": "code",
   "execution_count": 8,
   "metadata": {},
   "outputs": [],
   "source": [
    "first_row = raw_df.iloc[0]\n",
    "reactions = dict(eval(first_row['reactions']))\n",
    "reactions[\"shares\"] = first_row['shares']\n",
    "reactions[\"comments\"] = first_row['comments']"
   ]
  },
  {
   "cell_type": "code",
   "execution_count": 9,
   "metadata": {},
   "outputs": [
    {
     "data": {
      "text/plain": [
       "{'like': 1367,\n",
       " 'love': 661,\n",
       " 'wow': 15,\n",
       " 'care': 21,\n",
       " 'angry': 1,\n",
       " 'shares': 364,\n",
       " 'comments': 210}"
      ]
     },
     "execution_count": 9,
     "metadata": {},
     "output_type": "execute_result"
    }
   ],
   "source": [
    "reactions"
   ]
  },
  {
   "cell_type": "code",
   "execution_count": 10,
   "metadata": {},
   "outputs": [
    {
     "data": {
      "text/html": [
       "<div>\n",
       "<style scoped>\n",
       "    .dataframe tbody tr th:only-of-type {\n",
       "        vertical-align: middle;\n",
       "    }\n",
       "\n",
       "    .dataframe tbody tr th {\n",
       "        vertical-align: top;\n",
       "    }\n",
       "\n",
       "    .dataframe thead th {\n",
       "        text-align: right;\n",
       "    }\n",
       "</style>\n",
       "<table border=\"1\" class=\"dataframe\">\n",
       "  <thead>\n",
       "    <tr style=\"text-align: right;\">\n",
       "      <th></th>\n",
       "      <th>post_id</th>\n",
       "      <th>text</th>\n",
       "      <th>post_text</th>\n",
       "      <th>shared_text</th>\n",
       "      <th>original_text</th>\n",
       "      <th>time</th>\n",
       "      <th>timestamp</th>\n",
       "      <th>image</th>\n",
       "      <th>image_lowquality</th>\n",
       "      <th>images</th>\n",
       "      <th>...</th>\n",
       "      <th>reaction_count</th>\n",
       "      <th>with</th>\n",
       "      <th>page_id</th>\n",
       "      <th>sharers</th>\n",
       "      <th>image_id</th>\n",
       "      <th>image_ids</th>\n",
       "      <th>video_ids</th>\n",
       "      <th>videos</th>\n",
       "      <th>was_live</th>\n",
       "      <th>fetched_time</th>\n",
       "    </tr>\n",
       "  </thead>\n",
       "  <tbody>\n",
       "    <tr>\n",
       "      <th>45</th>\n",
       "      <td>636367022015466</td>\n",
       "      <td>Phoenix's creative garage spirit shines! 🏁🔥 Ch...</td>\n",
       "      <td>Phoenix's creative garage spirit shines! 🏁🔥 Ch...</td>\n",
       "      <td>NaN</td>\n",
       "      <td>NaN</td>\n",
       "      <td>2023-09-23 23:30:25</td>\n",
       "      <td>1695511825</td>\n",
       "      <td>NaN</td>\n",
       "      <td>https://scontent-xsp1-2.xx.fbcdn.net/v/t15.525...</td>\n",
       "      <td>[]</td>\n",
       "      <td>...</td>\n",
       "      <td>9500</td>\n",
       "      <td>NaN</td>\n",
       "      <td>7645145806</td>\n",
       "      <td>NaN</td>\n",
       "      <td>NaN</td>\n",
       "      <td>[]</td>\n",
       "      <td>NaN</td>\n",
       "      <td>NaN</td>\n",
       "      <td>False</td>\n",
       "      <td>NaN</td>\n",
       "    </tr>\n",
       "  </tbody>\n",
       "</table>\n",
       "<p>1 rows × 53 columns</p>\n",
       "</div>"
      ],
      "text/plain": [
       "            post_id                                               text  \\\n",
       "45  636367022015466  Phoenix's creative garage spirit shines! 🏁🔥 Ch...   \n",
       "\n",
       "                                            post_text shared_text  \\\n",
       "45  Phoenix's creative garage spirit shines! 🏁🔥 Ch...         NaN   \n",
       "\n",
       "    original_text                 time   timestamp image  \\\n",
       "45            NaN  2023-09-23 23:30:25  1695511825   NaN   \n",
       "\n",
       "                                     image_lowquality images  ...  \\\n",
       "45  https://scontent-xsp1-2.xx.fbcdn.net/v/t15.525...     []  ...   \n",
       "\n",
       "   reaction_count with     page_id sharers  image_id  image_ids  video_ids  \\\n",
       "45           9500  NaN  7645145806     NaN       NaN         []        NaN   \n",
       "\n",
       "    videos  was_live fetched_time  \n",
       "45     NaN     False          NaN  \n",
       "\n",
       "[1 rows x 53 columns]"
      ]
     },
     "execution_count": 10,
     "metadata": {},
     "output_type": "execute_result"
    }
   ],
   "source": [
    "hehe = max(raw_df['reaction_count'])\n",
    "x = raw_df[raw_df['reaction_count'] == hehe]\n",
    "x"
   ]
  },
  {
   "cell_type": "code",
   "execution_count": 16,
   "metadata": {},
   "outputs": [
    {
     "data": {
      "text/html": [
       "<div>\n",
       "<style scoped>\n",
       "    .dataframe tbody tr th:only-of-type {\n",
       "        vertical-align: middle;\n",
       "    }\n",
       "\n",
       "    .dataframe tbody tr th {\n",
       "        vertical-align: top;\n",
       "    }\n",
       "\n",
       "    .dataframe thead th {\n",
       "        text-align: right;\n",
       "    }\n",
       "</style>\n",
       "<table border=\"1\" class=\"dataframe\">\n",
       "  <thead>\n",
       "    <tr style=\"text-align: right;\">\n",
       "      <th></th>\n",
       "      <th>post_id</th>\n",
       "      <th>text</th>\n",
       "      <th>reactions</th>\n",
       "      <th>reaction_count</th>\n",
       "    </tr>\n",
       "  </thead>\n",
       "  <tbody>\n",
       "    <tr>\n",
       "      <th>0</th>\n",
       "      <td>663497495969085</td>\n",
       "      <td>Only ten cars remain but only one car will tak...</td>\n",
       "      <td>{'like': 1367, 'love': 661, 'wow': 15, 'care':...</td>\n",
       "      <td>2065</td>\n",
       "    </tr>\n",
       "    <tr>\n",
       "      <th>1</th>\n",
       "      <td>662533809398787</td>\n",
       "      <td>Challengers, let’s race full speed ahead this ...</td>\n",
       "      <td>{'like': 9}</td>\n",
       "      <td>9</td>\n",
       "    </tr>\n",
       "    <tr>\n",
       "      <th>2</th>\n",
       "      <td>662301126088722</td>\n",
       "      <td>Tune in this Saturday for the Hot Wheels Legen...</td>\n",
       "      <td>{'like': 219, 'love': 58, 'wow': 1, 'care': 4}</td>\n",
       "      <td>282</td>\n",
       "    </tr>\n",
       "    <tr>\n",
       "      <th>3</th>\n",
       "      <td>661756316143203</td>\n",
       "      <td>This Saturday marks the sixth Hot Wheels Legen...</td>\n",
       "      <td>{'like': 1133, 'love': 496, 'haha': 1, 'wow': ...</td>\n",
       "      <td>1670</td>\n",
       "    </tr>\n",
       "    <tr>\n",
       "      <th>4</th>\n",
       "      <td>1276112246404579</td>\n",
       "      <td>Join us for the Semi-Finals of the Hot Wheels ...</td>\n",
       "      <td>{'like': 249, 'love': 81, 'haha': 1, 'wow': 2,...</td>\n",
       "      <td>335</td>\n",
       "    </tr>\n",
       "    <tr>\n",
       "      <th>...</th>\n",
       "      <td>...</td>\n",
       "      <td>...</td>\n",
       "      <td>...</td>\n",
       "      <td>...</td>\n",
       "    </tr>\n",
       "    <tr>\n",
       "      <th>95</th>\n",
       "      <td>130770646693712</td>\n",
       "      <td>SUN, SEP 11\\nHot Wheels Monster Trucks Live!</td>\n",
       "      <td>NaN</td>\n",
       "      <td>19</td>\n",
       "    </tr>\n",
       "    <tr>\n",
       "      <th>96</th>\n",
       "      <td>998235587977759</td>\n",
       "      <td>SUN, SEP 4\\nHot Wheels Monster Trucks Live!</td>\n",
       "      <td>NaN</td>\n",
       "      <td>20</td>\n",
       "    </tr>\n",
       "    <tr>\n",
       "      <th>97</th>\n",
       "      <td>300656448999300</td>\n",
       "      <td>SUN, SEP 4\\nHot Wheels Monster Trucks Live!</td>\n",
       "      <td>NaN</td>\n",
       "      <td>32</td>\n",
       "    </tr>\n",
       "    <tr>\n",
       "      <th>98</th>\n",
       "      <td>600244618961040</td>\n",
       "      <td>Join Hot Wheels, NBC, Rutledge Wood and Dalal ...</td>\n",
       "      <td>NaN</td>\n",
       "      <td>1000</td>\n",
       "    </tr>\n",
       "    <tr>\n",
       "      <th>99</th>\n",
       "      <td>599621192356716</td>\n",
       "      <td>Meet 'Tootsie', a 1985 Mercedes-Benz 300D, who...</td>\n",
       "      <td>NaN</td>\n",
       "      <td>1000</td>\n",
       "    </tr>\n",
       "  </tbody>\n",
       "</table>\n",
       "<p>100 rows × 4 columns</p>\n",
       "</div>"
      ],
      "text/plain": [
       "             post_id                                               text  \\\n",
       "0    663497495969085  Only ten cars remain but only one car will tak...   \n",
       "1    662533809398787  Challengers, let’s race full speed ahead this ...   \n",
       "2    662301126088722  Tune in this Saturday for the Hot Wheels Legen...   \n",
       "3    661756316143203  This Saturday marks the sixth Hot Wheels Legen...   \n",
       "4   1276112246404579  Join us for the Semi-Finals of the Hot Wheels ...   \n",
       "..               ...                                                ...   \n",
       "95   130770646693712       SUN, SEP 11\\nHot Wheels Monster Trucks Live!   \n",
       "96   998235587977759        SUN, SEP 4\\nHot Wheels Monster Trucks Live!   \n",
       "97   300656448999300        SUN, SEP 4\\nHot Wheels Monster Trucks Live!   \n",
       "98   600244618961040  Join Hot Wheels, NBC, Rutledge Wood and Dalal ...   \n",
       "99   599621192356716  Meet 'Tootsie', a 1985 Mercedes-Benz 300D, who...   \n",
       "\n",
       "                                            reactions  reaction_count  \n",
       "0   {'like': 1367, 'love': 661, 'wow': 15, 'care':...            2065  \n",
       "1                                         {'like': 9}               9  \n",
       "2      {'like': 219, 'love': 58, 'wow': 1, 'care': 4}             282  \n",
       "3   {'like': 1133, 'love': 496, 'haha': 1, 'wow': ...            1670  \n",
       "4   {'like': 249, 'love': 81, 'haha': 1, 'wow': 2,...             335  \n",
       "..                                                ...             ...  \n",
       "95                                                NaN              19  \n",
       "96                                                NaN              20  \n",
       "97                                                NaN              32  \n",
       "98                                                NaN            1000  \n",
       "99                                                NaN            1000  \n",
       "\n",
       "[100 rows x 4 columns]"
      ]
     },
     "execution_count": 16,
     "metadata": {},
     "output_type": "execute_result"
    }
   ],
   "source": [
    "y = raw_df[['post_id', 'text', 'reactions', 'reaction_count']]\n",
    "y"
   ]
  },
  {
   "cell_type": "code",
   "execution_count": 22,
   "metadata": {},
   "outputs": [
    {
     "name": "stdout",
     "output_type": "stream",
     "text": [
      "{'like': 1367, 'love': 661, 'wow': 15, 'care': 21, 'angry': 1}\n",
      "{'like': 9}\n",
      "{'like': 219, 'love': 58, 'wow': 1, 'care': 4}\n",
      "{'like': 1133, 'love': 496, 'haha': 1, 'wow': 14, 'care': 26}\n",
      "{'like': 249, 'love': 81, 'haha': 1, 'wow': 2, 'care': 1, 'sad': 1}\n",
      "{'like': 241, 'love': 146, 'haha': 22, 'wow': 5, 'care': 6, 'sad': 1, 'angry': 3}\n",
      "{'like': 1021, 'love': 635, 'haha': 8, 'wow': 13, 'care': 19, 'sad': 1, 'angry': 1}\n",
      "{'like': 717, 'love': 459, 'wow': 12, 'care': 17, 'sad': 1, 'angry': 1}\n",
      "{'like': 187, 'love': 52, 'haha': 1, 'wow': 3, 'care': 1}\n",
      "{'like': 329, 'love': 164, 'haha': 23, 'wow': 6, 'care': 7, 'sad': 1, 'angry': 1}\n",
      "{'like': 173, 'love': 43, 'wow': 1, 'care': 2, 'angry': 1}\n"
     ]
    }
   ],
   "source": [
    "x = len(raw_df['reactions'])\n",
    "for i in range(x):\n",
    "    if pd.isna(raw_df['reactions'][i]):\n",
    "        continue\n",
    "    else:\n",
    "        print(raw_df['reactions'][i])\n"
   ]
  }
 ],
 "metadata": {
  "kernelspec": {
   "display_name": "Python 3 (ipykernel)",
   "language": "python",
   "name": "python3"
  },
  "language_info": {
   "codemirror_mode": {
    "name": "ipython",
    "version": 3
   },
   "file_extension": ".py",
   "mimetype": "text/x-python",
   "name": "python",
   "nbconvert_exporter": "python",
   "pygments_lexer": "ipython3",
   "version": "3.10.8"
  }
 },
 "nbformat": 4,
 "nbformat_minor": 2
}
