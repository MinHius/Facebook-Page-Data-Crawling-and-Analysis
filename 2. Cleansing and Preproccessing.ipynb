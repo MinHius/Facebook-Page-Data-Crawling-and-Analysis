{
 "cells": [
  {
   "cell_type": "markdown",
   "metadata": {},
   "source": [
    "# Sơ lược về dữ liệu thô."
   ]
  },
  {
   "cell_type": "code",
   "execution_count": 1,
   "metadata": {},
   "outputs": [
    {
     "name": "stdout",
     "output_type": "stream",
     "text": [
      "Requirement already satisfied: pandas in /home/codespace/.local/lib/python3.10/site-packages (2.1.2)\n",
      "Requirement already satisfied: numpy in /home/codespace/.local/lib/python3.10/site-packages (1.26.1)\n",
      "Requirement already satisfied: python-dateutil>=2.8.2 in /home/codespace/.local/lib/python3.10/site-packages (from pandas) (2.8.2)\n",
      "Requirement already satisfied: pytz>=2020.1 in /home/codespace/.local/lib/python3.10/site-packages (from pandas) (2023.3.post1)\n",
      "Requirement already satisfied: tzdata>=2022.1 in /home/codespace/.local/lib/python3.10/site-packages (from pandas) (2023.3)\n",
      "Requirement already satisfied: six>=1.5 in /home/codespace/.local/lib/python3.10/site-packages (from python-dateutil>=2.8.2->pandas) (1.16.0)\n",
      "Note: you may need to restart the kernel to use updated packages.\n"
     ]
    }
   ],
   "source": [
    "%pip install pandas numpy"
   ]
  },
  {
   "cell_type": "code",
   "execution_count": 2,
   "metadata": {},
   "outputs": [],
   "source": [
    "import numpy as np\n",
    "import pandas as pd"
   ]
  },
  {
   "cell_type": "code",
   "execution_count": 3,
   "metadata": {},
   "outputs": [
    {
     "data": {
      "text/plain": [
       "100"
      ]
     },
     "execution_count": 3,
     "metadata": {},
     "output_type": "execute_result"
    }
   ],
   "source": [
    "# Đọc file csv sau khi lưu, bao gồm 100 post.\n",
    "raw_df = pd.read_csv('Data/hotwheels.csv')\n",
    "len(raw_df)"
   ]
  },
  {
   "cell_type": "code",
   "execution_count": 4,
   "metadata": {},
   "outputs": [
    {
     "data": {
      "text/html": [
       "<div>\n",
       "<style scoped>\n",
       "    .dataframe tbody tr th:only-of-type {\n",
       "        vertical-align: middle;\n",
       "    }\n",
       "\n",
       "    .dataframe tbody tr th {\n",
       "        vertical-align: top;\n",
       "    }\n",
       "\n",
       "    .dataframe thead th {\n",
       "        text-align: right;\n",
       "    }\n",
       "</style>\n",
       "<table border=\"1\" class=\"dataframe\">\n",
       "  <thead>\n",
       "    <tr style=\"text-align: right;\">\n",
       "      <th></th>\n",
       "      <th>post_id</th>\n",
       "      <th>text</th>\n",
       "      <th>post_text</th>\n",
       "      <th>shared_text</th>\n",
       "      <th>original_text</th>\n",
       "      <th>time</th>\n",
       "      <th>timestamp</th>\n",
       "      <th>image</th>\n",
       "      <th>image_lowquality</th>\n",
       "      <th>images</th>\n",
       "      <th>...</th>\n",
       "      <th>reaction_count</th>\n",
       "      <th>with</th>\n",
       "      <th>page_id</th>\n",
       "      <th>sharers</th>\n",
       "      <th>image_id</th>\n",
       "      <th>image_ids</th>\n",
       "      <th>video_ids</th>\n",
       "      <th>videos</th>\n",
       "      <th>was_live</th>\n",
       "      <th>fetched_time</th>\n",
       "    </tr>\n",
       "  </thead>\n",
       "  <tbody>\n",
       "    <tr>\n",
       "      <th>0</th>\n",
       "      <td>663497495969085</td>\n",
       "      <td>Only ten cars remain but only one car will tak...</td>\n",
       "      <td>Only ten cars remain but only one car will tak...</td>\n",
       "      <td>NaN</td>\n",
       "      <td>NaN</td>\n",
       "      <td>2023-11-09 23:45:33</td>\n",
       "      <td>1699573533</td>\n",
       "      <td>https://scontent-sin6-1.xx.fbcdn.net/v/t39.308...</td>\n",
       "      <td>https://scontent-sin6-1.xx.fbcdn.net/v/t39.308...</td>\n",
       "      <td>['https://scontent-sin6-1.xx.fbcdn.net/v/t39.3...</td>\n",
       "      <td>...</td>\n",
       "      <td>2065</td>\n",
       "      <td>NaN</td>\n",
       "      <td>7645145806</td>\n",
       "      <td>NaN</td>\n",
       "      <td>NaN</td>\n",
       "      <td>[]</td>\n",
       "      <td>[]</td>\n",
       "      <td>[]</td>\n",
       "      <td>False</td>\n",
       "      <td>2023-11-10 16:09:27.741750</td>\n",
       "    </tr>\n",
       "    <tr>\n",
       "      <th>1</th>\n",
       "      <td>662533809398787</td>\n",
       "      <td>Challengers, let’s race full speed ahead this ...</td>\n",
       "      <td>Challengers, let’s race full speed ahead this ...</td>\n",
       "      <td>NaN</td>\n",
       "      <td>NaN</td>\n",
       "      <td>2023-11-08 06:00:47</td>\n",
       "      <td>1699423247</td>\n",
       "      <td>https://scontent-xsp1-2.xx.fbcdn.net/v/t39.308...</td>\n",
       "      <td>https://scontent-sin6-4.xx.fbcdn.net/v/t39.308...</td>\n",
       "      <td>['https://scontent-xsp1-2.xx.fbcdn.net/v/t39.3...</td>\n",
       "      <td>...</td>\n",
       "      <td>9</td>\n",
       "      <td>NaN</td>\n",
       "      <td>7645145806</td>\n",
       "      <td>NaN</td>\n",
       "      <td>NaN</td>\n",
       "      <td>[]</td>\n",
       "      <td>[]</td>\n",
       "      <td>[]</td>\n",
       "      <td>False</td>\n",
       "      <td>2023-11-10 16:10:03.707430</td>\n",
       "    </tr>\n",
       "    <tr>\n",
       "      <th>2</th>\n",
       "      <td>662301126088722</td>\n",
       "      <td>Tune in this Saturday for the Hot Wheels Legen...</td>\n",
       "      <td>Tune in this Saturday for the Hot Wheels Legen...</td>\n",
       "      <td>NaN</td>\n",
       "      <td>NaN</td>\n",
       "      <td>2023-11-07 17:15:04</td>\n",
       "      <td>1699377304</td>\n",
       "      <td>https://scontent-sin6-4.xx.fbcdn.net/v/t39.308...</td>\n",
       "      <td>https://scontent-sin6-4.xx.fbcdn.net/v/t39.308...</td>\n",
       "      <td>['https://scontent-sin6-4.xx.fbcdn.net/v/t39.3...</td>\n",
       "      <td>...</td>\n",
       "      <td>282</td>\n",
       "      <td>NaN</td>\n",
       "      <td>7645145806</td>\n",
       "      <td>NaN</td>\n",
       "      <td>6.623011e+14</td>\n",
       "      <td>['662301106088724']</td>\n",
       "      <td>NaN</td>\n",
       "      <td>NaN</td>\n",
       "      <td>False</td>\n",
       "      <td>2023-11-10 16:10:09.017637</td>\n",
       "    </tr>\n",
       "    <tr>\n",
       "      <th>3</th>\n",
       "      <td>661756316143203</td>\n",
       "      <td>This Saturday marks the sixth Hot Wheels Legen...</td>\n",
       "      <td>This Saturday marks the sixth Hot Wheels Legen...</td>\n",
       "      <td>NaN</td>\n",
       "      <td>NaN</td>\n",
       "      <td>2023-11-06 17:27:08</td>\n",
       "      <td>1699291628</td>\n",
       "      <td>https://scontent-sin6-1.xx.fbcdn.net/v/t39.308...</td>\n",
       "      <td>https://scontent-sin6-1.xx.fbcdn.net/v/t39.308...</td>\n",
       "      <td>['https://scontent-sin6-1.xx.fbcdn.net/v/t39.3...</td>\n",
       "      <td>...</td>\n",
       "      <td>1670</td>\n",
       "      <td>NaN</td>\n",
       "      <td>7645145806</td>\n",
       "      <td>NaN</td>\n",
       "      <td>NaN</td>\n",
       "      <td>[]</td>\n",
       "      <td>[]</td>\n",
       "      <td>[]</td>\n",
       "      <td>False</td>\n",
       "      <td>2023-11-10 16:10:52.307067</td>\n",
       "    </tr>\n",
       "    <tr>\n",
       "      <th>4</th>\n",
       "      <td>1276112246404579</td>\n",
       "      <td>Join us for the Semi-Finals of the Hot Wheels ...</td>\n",
       "      <td>Join us for the Semi-Finals of the Hot Wheels ...</td>\n",
       "      <td>NaN</td>\n",
       "      <td>NaN</td>\n",
       "      <td>2023-11-03 00:00:18</td>\n",
       "      <td>1698969618</td>\n",
       "      <td>NaN</td>\n",
       "      <td>https://scontent-sin6-3.xx.fbcdn.net/v/t15.525...</td>\n",
       "      <td>[]</td>\n",
       "      <td>...</td>\n",
       "      <td>335</td>\n",
       "      <td>NaN</td>\n",
       "      <td>7645145806</td>\n",
       "      <td>NaN</td>\n",
       "      <td>NaN</td>\n",
       "      <td>[]</td>\n",
       "      <td>NaN</td>\n",
       "      <td>NaN</td>\n",
       "      <td>True</td>\n",
       "      <td>2023-11-10 16:12:13.654651</td>\n",
       "    </tr>\n",
       "    <tr>\n",
       "      <th>...</th>\n",
       "      <td>...</td>\n",
       "      <td>...</td>\n",
       "      <td>...</td>\n",
       "      <td>...</td>\n",
       "      <td>...</td>\n",
       "      <td>...</td>\n",
       "      <td>...</td>\n",
       "      <td>...</td>\n",
       "      <td>...</td>\n",
       "      <td>...</td>\n",
       "      <td>...</td>\n",
       "      <td>...</td>\n",
       "      <td>...</td>\n",
       "      <td>...</td>\n",
       "      <td>...</td>\n",
       "      <td>...</td>\n",
       "      <td>...</td>\n",
       "      <td>...</td>\n",
       "      <td>...</td>\n",
       "      <td>...</td>\n",
       "      <td>...</td>\n",
       "    </tr>\n",
       "    <tr>\n",
       "      <th>95</th>\n",
       "      <td>130770646693712</td>\n",
       "      <td>SUN, SEP 11\\nHot Wheels Monster Trucks Live!</td>\n",
       "      <td>NaN</td>\n",
       "      <td>SUN, SEP 11\\nHot Wheels Monster Trucks Live!</td>\n",
       "      <td>NaN</td>\n",
       "      <td>2023-07-19 21:30:06</td>\n",
       "      <td>1689802206</td>\n",
       "      <td>NaN</td>\n",
       "      <td>https://scontent-sin6-4.xx.fbcdn.net/v/t39.308...</td>\n",
       "      <td>[]</td>\n",
       "      <td>...</td>\n",
       "      <td>19</td>\n",
       "      <td>[{'name': 'event', 'link': '/events/1307706466...</td>\n",
       "      <td>7645145806</td>\n",
       "      <td>NaN</td>\n",
       "      <td>NaN</td>\n",
       "      <td>[]</td>\n",
       "      <td>NaN</td>\n",
       "      <td>NaN</td>\n",
       "      <td>False</td>\n",
       "      <td>NaN</td>\n",
       "    </tr>\n",
       "    <tr>\n",
       "      <th>96</th>\n",
       "      <td>998235587977759</td>\n",
       "      <td>SUN, SEP 4\\nHot Wheels Monster Trucks Live!</td>\n",
       "      <td>NaN</td>\n",
       "      <td>SUN, SEP 4\\nHot Wheels Monster Trucks Live!</td>\n",
       "      <td>NaN</td>\n",
       "      <td>2023-07-19 21:19:33</td>\n",
       "      <td>1689801573</td>\n",
       "      <td>NaN</td>\n",
       "      <td>https://scontent-sin6-4.xx.fbcdn.net/v/t39.308...</td>\n",
       "      <td>[]</td>\n",
       "      <td>...</td>\n",
       "      <td>20</td>\n",
       "      <td>[{'name': 'event', 'link': '/events/9982355879...</td>\n",
       "      <td>7645145806</td>\n",
       "      <td>NaN</td>\n",
       "      <td>NaN</td>\n",
       "      <td>[]</td>\n",
       "      <td>NaN</td>\n",
       "      <td>NaN</td>\n",
       "      <td>False</td>\n",
       "      <td>NaN</td>\n",
       "    </tr>\n",
       "    <tr>\n",
       "      <th>97</th>\n",
       "      <td>300656448999300</td>\n",
       "      <td>SUN, SEP 4\\nHot Wheels Monster Trucks Live!</td>\n",
       "      <td>NaN</td>\n",
       "      <td>SUN, SEP 4\\nHot Wheels Monster Trucks Live!</td>\n",
       "      <td>NaN</td>\n",
       "      <td>2023-07-19 21:08:47</td>\n",
       "      <td>1689800927</td>\n",
       "      <td>NaN</td>\n",
       "      <td>https://scontent-sin6-1.xx.fbcdn.net/v/t39.308...</td>\n",
       "      <td>[]</td>\n",
       "      <td>...</td>\n",
       "      <td>32</td>\n",
       "      <td>[{'name': 'event', 'link': '/events/3006564489...</td>\n",
       "      <td>7645145806</td>\n",
       "      <td>NaN</td>\n",
       "      <td>NaN</td>\n",
       "      <td>[]</td>\n",
       "      <td>NaN</td>\n",
       "      <td>NaN</td>\n",
       "      <td>False</td>\n",
       "      <td>NaN</td>\n",
       "    </tr>\n",
       "    <tr>\n",
       "      <th>98</th>\n",
       "      <td>600244618961040</td>\n",
       "      <td>Join Hot Wheels, NBC, Rutledge Wood and Dalal ...</td>\n",
       "      <td>Join Hot Wheels, NBC, Rutledge Wood and Dalal ...</td>\n",
       "      <td>NaN</td>\n",
       "      <td>NaN</td>\n",
       "      <td>2023-07-18 21:36:24</td>\n",
       "      <td>1689716184</td>\n",
       "      <td>https://scontent-sin6-3.xx.fbcdn.net/v/t39.308...</td>\n",
       "      <td>https://scontent-sin6-3.xx.fbcdn.net/v/t39.308...</td>\n",
       "      <td>['https://scontent-sin6-3.xx.fbcdn.net/v/t39.3...</td>\n",
       "      <td>...</td>\n",
       "      <td>1000</td>\n",
       "      <td>NaN</td>\n",
       "      <td>7645145806</td>\n",
       "      <td>NaN</td>\n",
       "      <td>NaN</td>\n",
       "      <td>[]</td>\n",
       "      <td>[]</td>\n",
       "      <td>[]</td>\n",
       "      <td>False</td>\n",
       "      <td>NaN</td>\n",
       "    </tr>\n",
       "    <tr>\n",
       "      <th>99</th>\n",
       "      <td>599621192356716</td>\n",
       "      <td>Meet 'Tootsie', a 1985 Mercedes-Benz 300D, who...</td>\n",
       "      <td>Meet 'Tootsie', a 1985 Mercedes-Benz 300D, who...</td>\n",
       "      <td>NaN</td>\n",
       "      <td>NaN</td>\n",
       "      <td>2023-07-17 18:00:08</td>\n",
       "      <td>1689616808</td>\n",
       "      <td>NaN</td>\n",
       "      <td>https://scontent-sin6-2.xx.fbcdn.net/v/t15.525...</td>\n",
       "      <td>[]</td>\n",
       "      <td>...</td>\n",
       "      <td>1000</td>\n",
       "      <td>NaN</td>\n",
       "      <td>7645145806</td>\n",
       "      <td>NaN</td>\n",
       "      <td>NaN</td>\n",
       "      <td>[]</td>\n",
       "      <td>NaN</td>\n",
       "      <td>NaN</td>\n",
       "      <td>False</td>\n",
       "      <td>NaN</td>\n",
       "    </tr>\n",
       "  </tbody>\n",
       "</table>\n",
       "<p>100 rows × 53 columns</p>\n",
       "</div>"
      ],
      "text/plain": [
       "             post_id                                               text  \\\n",
       "0    663497495969085  Only ten cars remain but only one car will tak...   \n",
       "1    662533809398787  Challengers, let’s race full speed ahead this ...   \n",
       "2    662301126088722  Tune in this Saturday for the Hot Wheels Legen...   \n",
       "3    661756316143203  This Saturday marks the sixth Hot Wheels Legen...   \n",
       "4   1276112246404579  Join us for the Semi-Finals of the Hot Wheels ...   \n",
       "..               ...                                                ...   \n",
       "95   130770646693712       SUN, SEP 11\\nHot Wheels Monster Trucks Live!   \n",
       "96   998235587977759        SUN, SEP 4\\nHot Wheels Monster Trucks Live!   \n",
       "97   300656448999300        SUN, SEP 4\\nHot Wheels Monster Trucks Live!   \n",
       "98   600244618961040  Join Hot Wheels, NBC, Rutledge Wood and Dalal ...   \n",
       "99   599621192356716  Meet 'Tootsie', a 1985 Mercedes-Benz 300D, who...   \n",
       "\n",
       "                                            post_text  \\\n",
       "0   Only ten cars remain but only one car will tak...   \n",
       "1   Challengers, let’s race full speed ahead this ...   \n",
       "2   Tune in this Saturday for the Hot Wheels Legen...   \n",
       "3   This Saturday marks the sixth Hot Wheels Legen...   \n",
       "4   Join us for the Semi-Finals of the Hot Wheels ...   \n",
       "..                                                ...   \n",
       "95                                                NaN   \n",
       "96                                                NaN   \n",
       "97                                                NaN   \n",
       "98  Join Hot Wheels, NBC, Rutledge Wood and Dalal ...   \n",
       "99  Meet 'Tootsie', a 1985 Mercedes-Benz 300D, who...   \n",
       "\n",
       "                                     shared_text  original_text  \\\n",
       "0                                            NaN            NaN   \n",
       "1                                            NaN            NaN   \n",
       "2                                            NaN            NaN   \n",
       "3                                            NaN            NaN   \n",
       "4                                            NaN            NaN   \n",
       "..                                           ...            ...   \n",
       "95  SUN, SEP 11\\nHot Wheels Monster Trucks Live!            NaN   \n",
       "96   SUN, SEP 4\\nHot Wheels Monster Trucks Live!            NaN   \n",
       "97   SUN, SEP 4\\nHot Wheels Monster Trucks Live!            NaN   \n",
       "98                                           NaN            NaN   \n",
       "99                                           NaN            NaN   \n",
       "\n",
       "                   time   timestamp  \\\n",
       "0   2023-11-09 23:45:33  1699573533   \n",
       "1   2023-11-08 06:00:47  1699423247   \n",
       "2   2023-11-07 17:15:04  1699377304   \n",
       "3   2023-11-06 17:27:08  1699291628   \n",
       "4   2023-11-03 00:00:18  1698969618   \n",
       "..                  ...         ...   \n",
       "95  2023-07-19 21:30:06  1689802206   \n",
       "96  2023-07-19 21:19:33  1689801573   \n",
       "97  2023-07-19 21:08:47  1689800927   \n",
       "98  2023-07-18 21:36:24  1689716184   \n",
       "99  2023-07-17 18:00:08  1689616808   \n",
       "\n",
       "                                                image  \\\n",
       "0   https://scontent-sin6-1.xx.fbcdn.net/v/t39.308...   \n",
       "1   https://scontent-xsp1-2.xx.fbcdn.net/v/t39.308...   \n",
       "2   https://scontent-sin6-4.xx.fbcdn.net/v/t39.308...   \n",
       "3   https://scontent-sin6-1.xx.fbcdn.net/v/t39.308...   \n",
       "4                                                 NaN   \n",
       "..                                                ...   \n",
       "95                                                NaN   \n",
       "96                                                NaN   \n",
       "97                                                NaN   \n",
       "98  https://scontent-sin6-3.xx.fbcdn.net/v/t39.308...   \n",
       "99                                                NaN   \n",
       "\n",
       "                                     image_lowquality  \\\n",
       "0   https://scontent-sin6-1.xx.fbcdn.net/v/t39.308...   \n",
       "1   https://scontent-sin6-4.xx.fbcdn.net/v/t39.308...   \n",
       "2   https://scontent-sin6-4.xx.fbcdn.net/v/t39.308...   \n",
       "3   https://scontent-sin6-1.xx.fbcdn.net/v/t39.308...   \n",
       "4   https://scontent-sin6-3.xx.fbcdn.net/v/t15.525...   \n",
       "..                                                ...   \n",
       "95  https://scontent-sin6-4.xx.fbcdn.net/v/t39.308...   \n",
       "96  https://scontent-sin6-4.xx.fbcdn.net/v/t39.308...   \n",
       "97  https://scontent-sin6-1.xx.fbcdn.net/v/t39.308...   \n",
       "98  https://scontent-sin6-3.xx.fbcdn.net/v/t39.308...   \n",
       "99  https://scontent-sin6-2.xx.fbcdn.net/v/t15.525...   \n",
       "\n",
       "                                               images  ... reaction_count  \\\n",
       "0   ['https://scontent-sin6-1.xx.fbcdn.net/v/t39.3...  ...           2065   \n",
       "1   ['https://scontent-xsp1-2.xx.fbcdn.net/v/t39.3...  ...              9   \n",
       "2   ['https://scontent-sin6-4.xx.fbcdn.net/v/t39.3...  ...            282   \n",
       "3   ['https://scontent-sin6-1.xx.fbcdn.net/v/t39.3...  ...           1670   \n",
       "4                                                  []  ...            335   \n",
       "..                                                ...  ...            ...   \n",
       "95                                                 []  ...             19   \n",
       "96                                                 []  ...             20   \n",
       "97                                                 []  ...             32   \n",
       "98  ['https://scontent-sin6-3.xx.fbcdn.net/v/t39.3...  ...           1000   \n",
       "99                                                 []  ...           1000   \n",
       "\n",
       "                                                 with     page_id sharers  \\\n",
       "0                                                 NaN  7645145806     NaN   \n",
       "1                                                 NaN  7645145806     NaN   \n",
       "2                                                 NaN  7645145806     NaN   \n",
       "3                                                 NaN  7645145806     NaN   \n",
       "4                                                 NaN  7645145806     NaN   \n",
       "..                                                ...         ...     ...   \n",
       "95  [{'name': 'event', 'link': '/events/1307706466...  7645145806     NaN   \n",
       "96  [{'name': 'event', 'link': '/events/9982355879...  7645145806     NaN   \n",
       "97  [{'name': 'event', 'link': '/events/3006564489...  7645145806     NaN   \n",
       "98                                                NaN  7645145806     NaN   \n",
       "99                                                NaN  7645145806     NaN   \n",
       "\n",
       "        image_id            image_ids  video_ids  videos  was_live  \\\n",
       "0            NaN                   []         []      []     False   \n",
       "1            NaN                   []         []      []     False   \n",
       "2   6.623011e+14  ['662301106088724']        NaN     NaN     False   \n",
       "3            NaN                   []         []      []     False   \n",
       "4            NaN                   []        NaN     NaN      True   \n",
       "..           ...                  ...        ...     ...       ...   \n",
       "95           NaN                   []        NaN     NaN     False   \n",
       "96           NaN                   []        NaN     NaN     False   \n",
       "97           NaN                   []        NaN     NaN     False   \n",
       "98           NaN                   []         []      []     False   \n",
       "99           NaN                   []        NaN     NaN     False   \n",
       "\n",
       "                  fetched_time  \n",
       "0   2023-11-10 16:09:27.741750  \n",
       "1   2023-11-10 16:10:03.707430  \n",
       "2   2023-11-10 16:10:09.017637  \n",
       "3   2023-11-10 16:10:52.307067  \n",
       "4   2023-11-10 16:12:13.654651  \n",
       "..                         ...  \n",
       "95                         NaN  \n",
       "96                         NaN  \n",
       "97                         NaN  \n",
       "98                         NaN  \n",
       "99                         NaN  \n",
       "\n",
       "[100 rows x 53 columns]"
      ]
     },
     "execution_count": 4,
     "metadata": {},
     "output_type": "execute_result"
    }
   ],
   "source": [
    "# Dữ liệu thô.\n",
    "raw_df"
   ]
  },
  {
   "cell_type": "code",
   "execution_count": 5,
   "metadata": {},
   "outputs": [
    {
     "name": "stdout",
     "output_type": "stream",
     "text": [
      "<class 'pandas.core.frame.DataFrame'>\n",
      "RangeIndex: 100 entries, 0 to 99\n",
      "Data columns (total 53 columns):\n",
      " #   Column                         Non-Null Count  Dtype  \n",
      "---  ------                         --------------  -----  \n",
      " 0   post_id                        100 non-null    int64  \n",
      " 1   text                           100 non-null    object \n",
      " 2   post_text                      67 non-null     object \n",
      " 3   shared_text                    33 non-null     object \n",
      " 4   original_text                  0 non-null      float64\n",
      " 5   time                           100 non-null    object \n",
      " 6   timestamp                      100 non-null    int64  \n",
      " 7   image                          25 non-null     object \n",
      " 8   image_lowquality               100 non-null    object \n",
      " 9   images                         100 non-null    object \n",
      " 10  images_description             100 non-null    object \n",
      " 11  images_lowquality              100 non-null    object \n",
      " 12  images_lowquality_description  100 non-null    object \n",
      " 13  video                          45 non-null     object \n",
      " 14  video_duration_seconds         0 non-null      float64\n",
      " 15  video_height                   0 non-null      float64\n",
      " 16  video_id                       45 non-null     float64\n",
      " 17  video_quality                  0 non-null      float64\n",
      " 18  video_size_MB                  0 non-null      float64\n",
      " 19  video_thumbnail                45 non-null     object \n",
      " 20  video_watches                  0 non-null      float64\n",
      " 21  video_width                    0 non-null      float64\n",
      " 22  likes                          100 non-null    int64  \n",
      " 23  comments                       100 non-null    int64  \n",
      " 24  shares                         100 non-null    int64  \n",
      " 25  post_url                       100 non-null    object \n",
      " 26  link                           34 non-null     object \n",
      " 27  links                          100 non-null    object \n",
      " 28  user_id                        100 non-null    int64  \n",
      " 29  username                       100 non-null    object \n",
      " 30  user_url                       100 non-null    object \n",
      " 31  is_live                        100 non-null    bool   \n",
      " 32  factcheck                      0 non-null      float64\n",
      " 33  shared_post_id                 0 non-null      float64\n",
      " 34  shared_time                    0 non-null      float64\n",
      " 35  shared_user_id                 0 non-null      float64\n",
      " 36  shared_username                0 non-null      float64\n",
      " 37  shared_post_url                0 non-null      float64\n",
      " 38  available                      100 non-null    bool   \n",
      " 39  comments_full                  100 non-null    object \n",
      " 40  reactors                       11 non-null     object \n",
      " 41  w3_fb_url                      11 non-null     object \n",
      " 42  reactions                      11 non-null     object \n",
      " 43  reaction_count                 100 non-null    int64  \n",
      " 44  with                           31 non-null     object \n",
      " 45  page_id                        100 non-null    int64  \n",
      " 46  sharers                        0 non-null      float64\n",
      " 47  image_id                       3 non-null      float64\n",
      " 48  image_ids                      100 non-null    object \n",
      " 49  video_ids                      22 non-null     object \n",
      " 50  videos                         22 non-null     object \n",
      " 51  was_live                       100 non-null    bool   \n",
      " 52  fetched_time                   11 non-null     object \n",
      "dtypes: bool(3), float64(16), int64(8), object(26)\n",
      "memory usage: 39.5+ KB\n"
     ]
    }
   ],
   "source": [
    "# Thông tin về dữ liệu của dataframe khi chưa xử lý.\n",
    "raw_df.info()"
   ]
  },
  {
   "cell_type": "markdown",
   "metadata": {},
   "source": [
    "Đây là tổng quan về các cột hiện có trong dữ liệu, có bao nhiêu giá trị non-null được ghi nhận và loại giá trị của cột đó."
   ]
  },
  {
   "cell_type": "markdown",
   "metadata": {},
   "source": [
    "## ================================================================================================================="
   ]
  },
  {
   "cell_type": "markdown",
   "metadata": {},
   "source": [
    "## Loại bỏ các cột thừa, không sử dụng đến."
   ]
  },
  {
   "cell_type": "code",
   "execution_count": 6,
   "metadata": {},
   "outputs": [],
   "source": [
    "# Ta sẽ thao tác tiền xử lý và làm sạch trên dataframe pre_cleanse.\n",
    "pre_cleanse = raw_df"
   ]
  },
  {
   "cell_type": "code",
   "execution_count": 7,
   "metadata": {},
   "outputs": [
    {
     "data": {
      "text/plain": [
       "100"
      ]
     },
     "execution_count": 7,
     "metadata": {},
     "output_type": "execute_result"
    }
   ],
   "source": [
    "pre_cleanse = pre_cleanse.drop_duplicates()\n",
    "len(pre_cleanse)"
   ]
  },
  {
   "cell_type": "markdown",
   "metadata": {},
   "source": [
    "Dataframe không có dữ liệu bị trùng lặp."
   ]
  },
  {
   "cell_type": "code",
   "execution_count": 8,
   "metadata": {},
   "outputs": [
    {
     "name": "stdout",
     "output_type": "stream",
     "text": [
      "                                            post_text\n",
      "0   Only ten cars remain but only one car will tak...\n",
      "1   Challengers, let’s race full speed ahead this ...\n",
      "2   Tune in this Saturday for the Hot Wheels Legen...\n",
      "3   This Saturday marks the sixth Hot Wheels Legen...\n",
      "4   Join us for the Semi-Finals of the Hot Wheels ...\n",
      "..                                                ...\n",
      "95                                                NaN\n",
      "96                                                NaN\n",
      "97                                                NaN\n",
      "98  Join Hot Wheels, NBC, Rutledge Wood and Dalal ...\n",
      "99  Meet 'Tootsie', a 1985 Mercedes-Benz 300D, who...\n",
      "\n",
      "[100 rows x 1 columns]\n",
      "33\n"
     ]
    }
   ],
   "source": [
    "print(pre_cleanse[['post_text']])\n",
    "print(pre_cleanse['post_text'].isnull().sum())"
   ]
  },
  {
   "cell_type": "code",
   "execution_count": 9,
   "metadata": {},
   "outputs": [
    {
     "name": "stdout",
     "output_type": "stream",
     "text": [
      "                                                 text\n",
      "0   Only ten cars remain but only one car will tak...\n",
      "1   Challengers, let’s race full speed ahead this ...\n",
      "2   Tune in this Saturday for the Hot Wheels Legen...\n",
      "3   This Saturday marks the sixth Hot Wheels Legen...\n",
      "4   Join us for the Semi-Finals of the Hot Wheels ...\n",
      "..                                                ...\n",
      "95       SUN, SEP 11\\nHot Wheels Monster Trucks Live!\n",
      "96        SUN, SEP 4\\nHot Wheels Monster Trucks Live!\n",
      "97        SUN, SEP 4\\nHot Wheels Monster Trucks Live!\n",
      "98  Join Hot Wheels, NBC, Rutledge Wood and Dalal ...\n",
      "99  Meet 'Tootsie', a 1985 Mercedes-Benz 300D, who...\n",
      "\n",
      "[100 rows x 1 columns]\n",
      "0\n"
     ]
    }
   ],
   "source": [
    "print(pre_cleanse[['text']])\n",
    "print(pre_cleanse['text'].isnull().sum())"
   ]
  },
  {
   "cell_type": "markdown",
   "metadata": {},
   "source": [
    "Ở đây, ta nhận thấy hai cột post_text và text có giá trị như nhau (đều là nội dung bài đăng), nhưng cột text có đầy đủ dữ liệu hơn (post_text có chứa 33 giá trị NaN, mà text không có NaN). Ta tiến hành loại bỏ cột post_text."
   ]
  },
  {
   "cell_type": "code",
   "execution_count": 10,
   "metadata": {},
   "outputs": [],
   "source": [
    "pre_cleanse = pre_cleanse.drop(columns='post_text')"
   ]
  },
  {
   "cell_type": "markdown",
   "metadata": {},
   "source": [
    "Tiếp tục xét đến các cột còn lại, những cột sau đây sẽ bị lược bỏ:\n",
    "    Với lý do không cần thiết khi muốn biết về dữ liệu của fanpage đó:\n",
    "        shared_text,\n",
    "        original_text, \n",
    "        image, \n",
    "        image_lowquality, \n",
    "        images_lowquality, \n",
    "        images_lowquality_description, \n",
    "        video_duration_seconds, \n",
    "        video_height, \n",
    "        video_quality, \n",
    "        video_size_MB, \n",
    "        video_watches, \n",
    "        video_width, \n",
    "        likes, \n",
    "        link, \n",
    "        links, \n",
    "        user_url, \n",
    "        is_live, \n",
    "        factcheck, \n",
    "        shared_post_id, \n",
    "        shared_time, \n",
    "        shared_user_id, \n",
    "        shared_username, \n",
    "        shared_post_url, \n",
    "        reactors, \n",
    "        w3_fb_url, \n",
    "        with, \n",
    "        sharers, \n",
    "        image_id, \n",
    "        image_ids, \n",
    "        video_ids, \n",
    "        videos, \n",
    "        fetched_time. Tổng cộng đã lược bớt 32 cột không cần thiết.\n"
   ]
  },
  {
   "cell_type": "code",
   "execution_count": 11,
   "metadata": {},
   "outputs": [],
   "source": [
    "pre_cleanse = pre_cleanse.drop(columns=['shared_text', 'original_text', 'image', 'image_lowquality', 'images_lowquality_description', 'video_duration_seconds', 'video_height', 'video_quality', 'video_size_MB', 'video_watches', 'video_width', 'likes', 'link', 'links', 'user_url', 'is_live', 'factcheck', 'shared_post_id', 'shared_time', 'shared_user_id', 'shared_username', 'shared_post_url', 'reactors', 'w3_fb_url', 'with', 'sharers', 'image_id', 'image_ids', 'video_ids', 'videos', 'fetched_time'])\n",
    "\n",
    "\n"
   ]
  },
  {
   "cell_type": "code",
   "execution_count": 12,
   "metadata": {},
   "outputs": [
    {
     "name": "stdout",
     "output_type": "stream",
     "text": [
      "<class 'pandas.core.frame.DataFrame'>\n",
      "RangeIndex: 100 entries, 0 to 99\n",
      "Data columns (total 21 columns):\n",
      " #   Column              Non-Null Count  Dtype  \n",
      "---  ------              --------------  -----  \n",
      " 0   post_id             100 non-null    int64  \n",
      " 1   text                100 non-null    object \n",
      " 2   time                100 non-null    object \n",
      " 3   timestamp           100 non-null    int64  \n",
      " 4   images              100 non-null    object \n",
      " 5   images_description  100 non-null    object \n",
      " 6   images_lowquality   100 non-null    object \n",
      " 7   video               45 non-null     object \n",
      " 8   video_id            45 non-null     float64\n",
      " 9   video_thumbnail     45 non-null     object \n",
      " 10  comments            100 non-null    int64  \n",
      " 11  shares              100 non-null    int64  \n",
      " 12  post_url            100 non-null    object \n",
      " 13  user_id             100 non-null    int64  \n",
      " 14  username            100 non-null    object \n",
      " 15  available           100 non-null    bool   \n",
      " 16  comments_full       100 non-null    object \n",
      " 17  reactions           11 non-null     object \n",
      " 18  reaction_count      100 non-null    int64  \n",
      " 19  page_id             100 non-null    int64  \n",
      " 20  was_live            100 non-null    bool   \n",
      "dtypes: bool(2), float64(1), int64(7), object(11)\n",
      "memory usage: 15.2+ KB\n"
     ]
    }
   ],
   "source": [
    "pre_cleanse.info()"
   ]
  },
  {
   "cell_type": "markdown",
   "metadata": {},
   "source": [
    "## =================================================================================================================="
   ]
  },
  {
   "cell_type": "markdown",
   "metadata": {},
   "source": [
    "## Xử lý dữ liệu thiếu, không tồn tại."
   ]
  },
  {
   "cell_type": "markdown",
   "metadata": {},
   "source": [
    "Như ta thấy sau khi chạy lệnh info() ở trên, có 4 cột video, video_id, video_thumbnail và reactions là không đạt 100/100 non-null, ta tiến hành xử lý."
   ]
  },
  {
   "cell_type": "code",
   "execution_count": 13,
   "metadata": {},
   "outputs": [],
   "source": [
    "pre_cleanse['video'] = pre_cleanse['video'].fillna(\"\")"
   ]
  },
  {
   "cell_type": "code",
   "execution_count": 14,
   "metadata": {},
   "outputs": [],
   "source": [
    "pre_cleanse['video_id'] = pre_cleanse['video_id'].fillna(\"\")"
   ]
  },
  {
   "cell_type": "code",
   "execution_count": 15,
   "metadata": {},
   "outputs": [],
   "source": [
    "pre_cleanse['video_thumbnail'] = pre_cleanse['video_thumbnail'].fillna(\"\")"
   ]
  },
  {
   "cell_type": "code",
   "execution_count": 16,
   "metadata": {},
   "outputs": [],
   "source": [
    "pre_cleanse['reactions'] = pre_cleanse['reactions'].fillna(\"\")"
   ]
  },
  {
   "cell_type": "code",
   "execution_count": 17,
   "metadata": {},
   "outputs": [
    {
     "name": "stdout",
     "output_type": "stream",
     "text": [
      "<class 'pandas.core.frame.DataFrame'>\n",
      "RangeIndex: 100 entries, 0 to 99\n",
      "Data columns (total 21 columns):\n",
      " #   Column              Non-Null Count  Dtype \n",
      "---  ------              --------------  ----- \n",
      " 0   post_id             100 non-null    int64 \n",
      " 1   text                100 non-null    object\n",
      " 2   time                100 non-null    object\n",
      " 3   timestamp           100 non-null    int64 \n",
      " 4   images              100 non-null    object\n",
      " 5   images_description  100 non-null    object\n",
      " 6   images_lowquality   100 non-null    object\n",
      " 7   video               100 non-null    object\n",
      " 8   video_id            100 non-null    object\n",
      " 9   video_thumbnail     100 non-null    object\n",
      " 10  comments            100 non-null    int64 \n",
      " 11  shares              100 non-null    int64 \n",
      " 12  post_url            100 non-null    object\n",
      " 13  user_id             100 non-null    int64 \n",
      " 14  username            100 non-null    object\n",
      " 15  available           100 non-null    bool  \n",
      " 16  comments_full       100 non-null    object\n",
      " 17  reactions           100 non-null    object\n",
      " 18  reaction_count      100 non-null    int64 \n",
      " 19  page_id             100 non-null    int64 \n",
      " 20  was_live            100 non-null    bool  \n",
      "dtypes: bool(2), int64(7), object(12)\n",
      "memory usage: 15.2+ KB\n"
     ]
    }
   ],
   "source": [
    "pre_cleanse.info()"
   ]
  },
  {
   "cell_type": "markdown",
   "metadata": {},
   "source": [
    "Dataframe đã được khử toàn bộ NaN, và lược bớt những cột không cần thiết nhằm giảm kích thước cũng như dung lượng bộ nhớ cần để lưu trữ dataframe."
   ]
  },
  {
   "cell_type": "markdown",
   "metadata": {},
   "source": [
    "## =================================================================================================================\n"
   ]
  },
  {
   "cell_type": "markdown",
   "metadata": {},
   "source": [
    "## Lưu dữ liệu đã làm sạch thành file csv để bắt đầu phân tích."
   ]
  },
  {
   "cell_type": "code",
   "execution_count": 27,
   "metadata": {},
   "outputs": [
    {
     "ename": "OSError",
     "evalue": "Cannot save file into a non-existent directory: 'Data2'",
     "output_type": "error",
     "traceback": [
      "\u001b[0;31m---------------------------------------------------------------------------\u001b[0m",
      "\u001b[0;31mOSError\u001b[0m                                   Traceback (most recent call last)",
      "\u001b[1;32m/MinHius/Final_Python/2. Cleansing and Preproccessing.ipynb Cell 31\u001b[0m line \u001b[0;36m1\n\u001b[0;32m----> <a href='vscode-notebook-cell://github%2B7b2276223a312c22726566223a7b2274797065223a352c226964223a226d61696e227d7d/MinHius/Final_Python/2.%20Cleansing%20and%20Preproccessing.ipynb#X42sdnNjb2RlLXZmcw%3D%3D?line=0'>1</a>\u001b[0m pre_cleanse\u001b[39m.\u001b[39;49mto_csv(\u001b[39m\"\u001b[39;49m\u001b[39mData2/hotwheels_done.csv\u001b[39;49m\u001b[39m\"\u001b[39;49m, index \u001b[39m=\u001b[39;49m \u001b[39mFalse\u001b[39;49;00m)\n",
      "File \u001b[0;32m~/.local/lib/python3.10/site-packages/pandas/core/generic.py:3902\u001b[0m, in \u001b[0;36mNDFrame.to_csv\u001b[0;34m(self, path_or_buf, sep, na_rep, float_format, columns, header, index, index_label, mode, encoding, compression, quoting, quotechar, lineterminator, chunksize, date_format, doublequote, escapechar, decimal, errors, storage_options)\u001b[0m\n\u001b[1;32m   3891\u001b[0m df \u001b[39m=\u001b[39m \u001b[39mself\u001b[39m \u001b[39mif\u001b[39;00m \u001b[39misinstance\u001b[39m(\u001b[39mself\u001b[39m, ABCDataFrame) \u001b[39melse\u001b[39;00m \u001b[39mself\u001b[39m\u001b[39m.\u001b[39mto_frame()\n\u001b[1;32m   3893\u001b[0m formatter \u001b[39m=\u001b[39m DataFrameFormatter(\n\u001b[1;32m   3894\u001b[0m     frame\u001b[39m=\u001b[39mdf,\n\u001b[1;32m   3895\u001b[0m     header\u001b[39m=\u001b[39mheader,\n\u001b[0;32m   (...)\u001b[0m\n\u001b[1;32m   3899\u001b[0m     decimal\u001b[39m=\u001b[39mdecimal,\n\u001b[1;32m   3900\u001b[0m )\n\u001b[0;32m-> 3902\u001b[0m \u001b[39mreturn\u001b[39;00m DataFrameRenderer(formatter)\u001b[39m.\u001b[39;49mto_csv(\n\u001b[1;32m   3903\u001b[0m     path_or_buf,\n\u001b[1;32m   3904\u001b[0m     lineterminator\u001b[39m=\u001b[39;49mlineterminator,\n\u001b[1;32m   3905\u001b[0m     sep\u001b[39m=\u001b[39;49msep,\n\u001b[1;32m   3906\u001b[0m     encoding\u001b[39m=\u001b[39;49mencoding,\n\u001b[1;32m   3907\u001b[0m     errors\u001b[39m=\u001b[39;49merrors,\n\u001b[1;32m   3908\u001b[0m     compression\u001b[39m=\u001b[39;49mcompression,\n\u001b[1;32m   3909\u001b[0m     quoting\u001b[39m=\u001b[39;49mquoting,\n\u001b[1;32m   3910\u001b[0m     columns\u001b[39m=\u001b[39;49mcolumns,\n\u001b[1;32m   3911\u001b[0m     index_label\u001b[39m=\u001b[39;49mindex_label,\n\u001b[1;32m   3912\u001b[0m     mode\u001b[39m=\u001b[39;49mmode,\n\u001b[1;32m   3913\u001b[0m     chunksize\u001b[39m=\u001b[39;49mchunksize,\n\u001b[1;32m   3914\u001b[0m     quotechar\u001b[39m=\u001b[39;49mquotechar,\n\u001b[1;32m   3915\u001b[0m     date_format\u001b[39m=\u001b[39;49mdate_format,\n\u001b[1;32m   3916\u001b[0m     doublequote\u001b[39m=\u001b[39;49mdoublequote,\n\u001b[1;32m   3917\u001b[0m     escapechar\u001b[39m=\u001b[39;49mescapechar,\n\u001b[1;32m   3918\u001b[0m     storage_options\u001b[39m=\u001b[39;49mstorage_options,\n\u001b[1;32m   3919\u001b[0m )\n",
      "File \u001b[0;32m~/.local/lib/python3.10/site-packages/pandas/io/formats/format.py:1152\u001b[0m, in \u001b[0;36mDataFrameRenderer.to_csv\u001b[0;34m(self, path_or_buf, encoding, sep, columns, index_label, mode, compression, quoting, quotechar, lineterminator, chunksize, date_format, doublequote, escapechar, errors, storage_options)\u001b[0m\n\u001b[1;32m   1131\u001b[0m     created_buffer \u001b[39m=\u001b[39m \u001b[39mFalse\u001b[39;00m\n\u001b[1;32m   1133\u001b[0m csv_formatter \u001b[39m=\u001b[39m CSVFormatter(\n\u001b[1;32m   1134\u001b[0m     path_or_buf\u001b[39m=\u001b[39mpath_or_buf,\n\u001b[1;32m   1135\u001b[0m     lineterminator\u001b[39m=\u001b[39mlineterminator,\n\u001b[0;32m   (...)\u001b[0m\n\u001b[1;32m   1150\u001b[0m     formatter\u001b[39m=\u001b[39m\u001b[39mself\u001b[39m\u001b[39m.\u001b[39mfmt,\n\u001b[1;32m   1151\u001b[0m )\n\u001b[0;32m-> 1152\u001b[0m csv_formatter\u001b[39m.\u001b[39;49msave()\n\u001b[1;32m   1154\u001b[0m \u001b[39mif\u001b[39;00m created_buffer:\n\u001b[1;32m   1155\u001b[0m     \u001b[39massert\u001b[39;00m \u001b[39misinstance\u001b[39m(path_or_buf, StringIO)\n",
      "File \u001b[0;32m~/.local/lib/python3.10/site-packages/pandas/io/formats/csvs.py:247\u001b[0m, in \u001b[0;36mCSVFormatter.save\u001b[0;34m(self)\u001b[0m\n\u001b[1;32m    243\u001b[0m \u001b[39m\u001b[39m\u001b[39m\"\"\"\u001b[39;00m\n\u001b[1;32m    244\u001b[0m \u001b[39mCreate the writer & save.\u001b[39;00m\n\u001b[1;32m    245\u001b[0m \u001b[39m\"\"\"\u001b[39;00m\n\u001b[1;32m    246\u001b[0m \u001b[39m# apply compression and byte/text conversion\u001b[39;00m\n\u001b[0;32m--> 247\u001b[0m \u001b[39mwith\u001b[39;00m get_handle(\n\u001b[1;32m    248\u001b[0m     \u001b[39mself\u001b[39;49m\u001b[39m.\u001b[39;49mfilepath_or_buffer,\n\u001b[1;32m    249\u001b[0m     \u001b[39mself\u001b[39;49m\u001b[39m.\u001b[39;49mmode,\n\u001b[1;32m    250\u001b[0m     encoding\u001b[39m=\u001b[39;49m\u001b[39mself\u001b[39;49m\u001b[39m.\u001b[39;49mencoding,\n\u001b[1;32m    251\u001b[0m     errors\u001b[39m=\u001b[39;49m\u001b[39mself\u001b[39;49m\u001b[39m.\u001b[39;49merrors,\n\u001b[1;32m    252\u001b[0m     compression\u001b[39m=\u001b[39;49m\u001b[39mself\u001b[39;49m\u001b[39m.\u001b[39;49mcompression,\n\u001b[1;32m    253\u001b[0m     storage_options\u001b[39m=\u001b[39;49m\u001b[39mself\u001b[39;49m\u001b[39m.\u001b[39;49mstorage_options,\n\u001b[1;32m    254\u001b[0m ) \u001b[39mas\u001b[39;00m handles:\n\u001b[1;32m    255\u001b[0m     \u001b[39m# Note: self.encoding is irrelevant here\u001b[39;00m\n\u001b[1;32m    256\u001b[0m     \u001b[39mself\u001b[39m\u001b[39m.\u001b[39mwriter \u001b[39m=\u001b[39m csvlib\u001b[39m.\u001b[39mwriter(\n\u001b[1;32m    257\u001b[0m         handles\u001b[39m.\u001b[39mhandle,\n\u001b[1;32m    258\u001b[0m         lineterminator\u001b[39m=\u001b[39m\u001b[39mself\u001b[39m\u001b[39m.\u001b[39mlineterminator,\n\u001b[0;32m   (...)\u001b[0m\n\u001b[1;32m    263\u001b[0m         quotechar\u001b[39m=\u001b[39m\u001b[39mself\u001b[39m\u001b[39m.\u001b[39mquotechar,\n\u001b[1;32m    264\u001b[0m     )\n\u001b[1;32m    266\u001b[0m     \u001b[39mself\u001b[39m\u001b[39m.\u001b[39m_save()\n",
      "File \u001b[0;32m~/.local/lib/python3.10/site-packages/pandas/io/common.py:739\u001b[0m, in \u001b[0;36mget_handle\u001b[0;34m(path_or_buf, mode, encoding, compression, memory_map, is_text, errors, storage_options)\u001b[0m\n\u001b[1;32m    737\u001b[0m \u001b[39m# Only for write methods\u001b[39;00m\n\u001b[1;32m    738\u001b[0m \u001b[39mif\u001b[39;00m \u001b[39m\"\u001b[39m\u001b[39mr\u001b[39m\u001b[39m\"\u001b[39m \u001b[39mnot\u001b[39;00m \u001b[39min\u001b[39;00m mode \u001b[39mand\u001b[39;00m is_path:\n\u001b[0;32m--> 739\u001b[0m     check_parent_directory(\u001b[39mstr\u001b[39;49m(handle))\n\u001b[1;32m    741\u001b[0m \u001b[39mif\u001b[39;00m compression:\n\u001b[1;32m    742\u001b[0m     \u001b[39mif\u001b[39;00m compression \u001b[39m!=\u001b[39m \u001b[39m\"\u001b[39m\u001b[39mzstd\u001b[39m\u001b[39m\"\u001b[39m:\n\u001b[1;32m    743\u001b[0m         \u001b[39m# compression libraries do not like an explicit text-mode\u001b[39;00m\n",
      "File \u001b[0;32m~/.local/lib/python3.10/site-packages/pandas/io/common.py:604\u001b[0m, in \u001b[0;36mcheck_parent_directory\u001b[0;34m(path)\u001b[0m\n\u001b[1;32m    602\u001b[0m parent \u001b[39m=\u001b[39m Path(path)\u001b[39m.\u001b[39mparent\n\u001b[1;32m    603\u001b[0m \u001b[39mif\u001b[39;00m \u001b[39mnot\u001b[39;00m parent\u001b[39m.\u001b[39mis_dir():\n\u001b[0;32m--> 604\u001b[0m     \u001b[39mraise\u001b[39;00m \u001b[39mOSError\u001b[39;00m(\u001b[39mrf\u001b[39m\u001b[39m\"\u001b[39m\u001b[39mCannot save file into a non-existent directory: \u001b[39m\u001b[39m'\u001b[39m\u001b[39m{\u001b[39;00mparent\u001b[39m}\u001b[39;00m\u001b[39m'\u001b[39m\u001b[39m\"\u001b[39m)\n",
      "\u001b[0;31mOSError\u001b[0m: Cannot save file into a non-existent directory: 'Data2'"
     ]
    }
   ],
   "source": [
    "pre_cleanse.to_csv(\"Data2/hotwheels_done.csv\", index = False)"
   ]
  },
  {
   "cell_type": "code",
   "execution_count": 26,
   "metadata": {},
   "outputs": [
    {
     "data": {
      "text/plain": [
       "100"
      ]
     },
     "execution_count": 26,
     "metadata": {},
     "output_type": "execute_result"
    }
   ],
   "source": [
    "oh = pd.read_csv(\"Data/hotwheels_done.csv\")\n",
    "len(oh)"
   ]
  }
 ],
 "metadata": {
  "kernelspec": {
   "display_name": "Python 3 (ipykernel)",
   "language": "python",
   "name": "python3"
  },
  "language_info": {
   "codemirror_mode": {
    "name": "ipython",
    "version": 3
   },
   "file_extension": ".py",
   "mimetype": "text/x-python",
   "name": "python",
   "nbconvert_exporter": "python",
   "pygments_lexer": "ipython3",
   "version": "3.10.8"
  }
 },
 "nbformat": 4,
 "nbformat_minor": 2
}
