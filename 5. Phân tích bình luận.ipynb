{
 "cells": [
  {
   "cell_type": "markdown",
   "metadata": {},
   "source": []
  },
  {
   "cell_type": "markdown",
   "metadata": {},
   "source": []
  },
  {
   "cell_type": "code",
   "execution_count": 22,
   "metadata": {},
   "outputs": [
    {
     "name": "stderr",
     "output_type": "stream",
     "text": [
      "c:\\Users\\HP\\AppData\\Local\\Programs\\Python\\Python312\\Lib\\site-packages\\tqdm\\auto.py:21: TqdmWarning: IProgress not found. Please update jupyter and ipywidgets. See https://ipywidgets.readthedocs.io/en/stable/user_install.html\n",
      "  from .autonotebook import tqdm as notebook_tqdm\n"
     ]
    }
   ],
   "source": [
    "import pandas as pd\n",
    "import matplotlib.pyplot as plt\n",
    "import seaborn as sns\n",
    "import numpy as np\n",
    "import matplotlib.pyplot as plt\n",
    "import facebook_scraper"
   ]
  },
  {
   "cell_type": "code",
   "execution_count": 36,
   "metadata": {},
   "outputs": [],
   "source": [
    "df_full = pd.read_csv('Data/hotwheels_done.csv')\n",
    "len(df_full)\n",
    "path = 'Data/hotwheels_done.npy'\n",
    "post_list = np.load(path,allow_pickle=True)"
   ]
  },
  {
   "cell_type": "markdown",
   "metadata": {},
   "source": []
  },
  {
   "cell_type": "code",
   "execution_count": 41,
   "metadata": {},
   "outputs": [
    {
     "ename": "TypeError",
     "evalue": "eval() arg 1 must be a string, bytes or code object",
     "output_type": "error",
     "traceback": [
      "\u001b[1;31m---------------------------------------------------------------------------\u001b[0m",
      "\u001b[1;31mTypeError\u001b[0m                                 Traceback (most recent call last)",
      "\u001b[1;32me:\\MINHHIEU\\Bài Tập\\Đại Học\\Sophomore\\Python\\oh damn\\Final_Python\\5. Phân tích bình luận.ipynb Cell 6\u001b[0m line \u001b[0;36m2\n\u001b[0;32m      <a href='vscode-notebook-cell:/e%3A/MINHHIEU/B%C3%A0i%20T%E1%BA%ADp/%C4%90%E1%BA%A1i%20H%E1%BB%8Dc/Sophomore/Python/oh%20damn/Final_Python/5.%20Ph%C3%A2n%20t%C3%ADch%20b%C3%ACnh%20lu%E1%BA%ADn.ipynb#X30sZmlsZQ%3D%3D?line=0'>1</a>\u001b[0m post_df_full1 \u001b[39m=\u001b[39m df_full\n\u001b[1;32m----> <a href='vscode-notebook-cell:/e%3A/MINHHIEU/B%C3%A0i%20T%E1%BA%ADp/%C4%90%E1%BA%A1i%20H%E1%BB%8Dc/Sophomore/Python/oh%20damn/Final_Python/5.%20Ph%C3%A2n%20t%C3%ADch%20b%C3%ACnh%20lu%E1%BA%ADn.ipynb#X30sZmlsZQ%3D%3D?line=1'>2</a>\u001b[0m post_df_full1[\u001b[39m'\u001b[39m\u001b[39mreactions\u001b[39m\u001b[39m'\u001b[39m] \u001b[39m=\u001b[39m post_df_full1[\u001b[39m'\u001b[39;49m\u001b[39mreactions\u001b[39;49m\u001b[39m'\u001b[39;49m]\u001b[39m.\u001b[39;49mapply(\u001b[39mlambda\u001b[39;49;00m x : \u001b[39mdict\u001b[39;49m(\u001b[39meval\u001b[39;49m(x)) )\n\u001b[0;32m      <a href='vscode-notebook-cell:/e%3A/MINHHIEU/B%C3%A0i%20T%E1%BA%ADp/%C4%90%E1%BA%A1i%20H%E1%BB%8Dc/Sophomore/Python/oh%20damn/Final_Python/5.%20Ph%C3%A2n%20t%C3%ADch%20b%C3%ACnh%20lu%E1%BA%ADn.ipynb#X30sZmlsZQ%3D%3D?line=2'>3</a>\u001b[0m post_df_full_reactions \u001b[39m=\u001b[39m post_df_full1[\u001b[39m'\u001b[39m\u001b[39mreactions\u001b[39m\u001b[39m'\u001b[39m]\u001b[39m.\u001b[39mapply(pd\u001b[39m.\u001b[39mSeries )\n\u001b[0;32m      <a href='vscode-notebook-cell:/e%3A/MINHHIEU/B%C3%A0i%20T%E1%BA%ADp/%C4%90%E1%BA%A1i%20H%E1%BB%8Dc/Sophomore/Python/oh%20damn/Final_Python/5.%20Ph%C3%A2n%20t%C3%ADch%20b%C3%ACnh%20lu%E1%BA%ADn.ipynb#X30sZmlsZQ%3D%3D?line=3'>4</a>\u001b[0m \u001b[39m# Merge expanded columns into dataframe\u001b[39;00m\n",
      "File \u001b[1;32mc:\\Users\\HP\\AppData\\Local\\Programs\\Python\\Python312\\Lib\\site-packages\\pandas\\core\\series.py:4760\u001b[0m, in \u001b[0;36mSeries.apply\u001b[1;34m(self, func, convert_dtype, args, by_row, **kwargs)\u001b[0m\n\u001b[0;32m   4625\u001b[0m \u001b[39mdef\u001b[39;00m \u001b[39mapply\u001b[39m(\n\u001b[0;32m   4626\u001b[0m     \u001b[39mself\u001b[39m,\n\u001b[0;32m   4627\u001b[0m     func: AggFuncType,\n\u001b[1;32m   (...)\u001b[0m\n\u001b[0;32m   4632\u001b[0m     \u001b[39m*\u001b[39m\u001b[39m*\u001b[39mkwargs,\n\u001b[0;32m   4633\u001b[0m ) \u001b[39m-\u001b[39m\u001b[39m>\u001b[39m DataFrame \u001b[39m|\u001b[39m Series:\n\u001b[0;32m   4634\u001b[0m \u001b[39m    \u001b[39m\u001b[39m\"\"\"\u001b[39;00m\n\u001b[0;32m   4635\u001b[0m \u001b[39m    Invoke function on values of Series.\u001b[39;00m\n\u001b[0;32m   4636\u001b[0m \n\u001b[1;32m   (...)\u001b[0m\n\u001b[0;32m   4751\u001b[0m \u001b[39m    dtype: float64\u001b[39;00m\n\u001b[0;32m   4752\u001b[0m \u001b[39m    \"\"\"\u001b[39;00m\n\u001b[0;32m   4753\u001b[0m     \u001b[39mreturn\u001b[39;00m SeriesApply(\n\u001b[0;32m   4754\u001b[0m         \u001b[39mself\u001b[39;49m,\n\u001b[0;32m   4755\u001b[0m         func,\n\u001b[0;32m   4756\u001b[0m         convert_dtype\u001b[39m=\u001b[39;49mconvert_dtype,\n\u001b[0;32m   4757\u001b[0m         by_row\u001b[39m=\u001b[39;49mby_row,\n\u001b[0;32m   4758\u001b[0m         args\u001b[39m=\u001b[39;49margs,\n\u001b[0;32m   4759\u001b[0m         kwargs\u001b[39m=\u001b[39;49mkwargs,\n\u001b[1;32m-> 4760\u001b[0m     )\u001b[39m.\u001b[39;49mapply()\n",
      "File \u001b[1;32mc:\\Users\\HP\\AppData\\Local\\Programs\\Python\\Python312\\Lib\\site-packages\\pandas\\core\\apply.py:1207\u001b[0m, in \u001b[0;36mSeriesApply.apply\u001b[1;34m(self)\u001b[0m\n\u001b[0;32m   1204\u001b[0m     \u001b[39mreturn\u001b[39;00m \u001b[39mself\u001b[39m\u001b[39m.\u001b[39mapply_compat()\n\u001b[0;32m   1206\u001b[0m \u001b[39m# self.func is Callable\u001b[39;00m\n\u001b[1;32m-> 1207\u001b[0m \u001b[39mreturn\u001b[39;00m \u001b[39mself\u001b[39;49m\u001b[39m.\u001b[39;49mapply_standard()\n",
      "File \u001b[1;32mc:\\Users\\HP\\AppData\\Local\\Programs\\Python\\Python312\\Lib\\site-packages\\pandas\\core\\apply.py:1287\u001b[0m, in \u001b[0;36mSeriesApply.apply_standard\u001b[1;34m(self)\u001b[0m\n\u001b[0;32m   1281\u001b[0m \u001b[39m# row-wise access\u001b[39;00m\n\u001b[0;32m   1282\u001b[0m \u001b[39m# apply doesn't have a `na_action` keyword and for backward compat reasons\u001b[39;00m\n\u001b[0;32m   1283\u001b[0m \u001b[39m# we need to give `na_action=\"ignore\"` for categorical data.\u001b[39;00m\n\u001b[0;32m   1284\u001b[0m \u001b[39m# TODO: remove the `na_action=\"ignore\"` when that default has been changed in\u001b[39;00m\n\u001b[0;32m   1285\u001b[0m \u001b[39m#  Categorical (GH51645).\u001b[39;00m\n\u001b[0;32m   1286\u001b[0m action \u001b[39m=\u001b[39m \u001b[39m\"\u001b[39m\u001b[39mignore\u001b[39m\u001b[39m\"\u001b[39m \u001b[39mif\u001b[39;00m \u001b[39misinstance\u001b[39m(obj\u001b[39m.\u001b[39mdtype, CategoricalDtype) \u001b[39melse\u001b[39;00m \u001b[39mNone\u001b[39;00m\n\u001b[1;32m-> 1287\u001b[0m mapped \u001b[39m=\u001b[39m obj\u001b[39m.\u001b[39;49m_map_values(\n\u001b[0;32m   1288\u001b[0m     mapper\u001b[39m=\u001b[39;49mcurried, na_action\u001b[39m=\u001b[39;49maction, convert\u001b[39m=\u001b[39;49m\u001b[39mself\u001b[39;49m\u001b[39m.\u001b[39;49mconvert_dtype\n\u001b[0;32m   1289\u001b[0m )\n\u001b[0;32m   1291\u001b[0m \u001b[39mif\u001b[39;00m \u001b[39mlen\u001b[39m(mapped) \u001b[39mand\u001b[39;00m \u001b[39misinstance\u001b[39m(mapped[\u001b[39m0\u001b[39m], ABCSeries):\n\u001b[0;32m   1292\u001b[0m     \u001b[39m# GH#43986 Need to do list(mapped) in order to get treated as nested\u001b[39;00m\n\u001b[0;32m   1293\u001b[0m     \u001b[39m#  See also GH#25959 regarding EA support\u001b[39;00m\n\u001b[0;32m   1294\u001b[0m     \u001b[39mreturn\u001b[39;00m obj\u001b[39m.\u001b[39m_constructor_expanddim(\u001b[39mlist\u001b[39m(mapped), index\u001b[39m=\u001b[39mobj\u001b[39m.\u001b[39mindex)\n",
      "File \u001b[1;32mc:\\Users\\HP\\AppData\\Local\\Programs\\Python\\Python312\\Lib\\site-packages\\pandas\\core\\base.py:921\u001b[0m, in \u001b[0;36mIndexOpsMixin._map_values\u001b[1;34m(self, mapper, na_action, convert)\u001b[0m\n\u001b[0;32m    918\u001b[0m \u001b[39mif\u001b[39;00m \u001b[39misinstance\u001b[39m(arr, ExtensionArray):\n\u001b[0;32m    919\u001b[0m     \u001b[39mreturn\u001b[39;00m arr\u001b[39m.\u001b[39mmap(mapper, na_action\u001b[39m=\u001b[39mna_action)\n\u001b[1;32m--> 921\u001b[0m \u001b[39mreturn\u001b[39;00m algorithms\u001b[39m.\u001b[39;49mmap_array(arr, mapper, na_action\u001b[39m=\u001b[39;49mna_action, convert\u001b[39m=\u001b[39;49mconvert)\n",
      "File \u001b[1;32mc:\\Users\\HP\\AppData\\Local\\Programs\\Python\\Python312\\Lib\\site-packages\\pandas\\core\\algorithms.py:1814\u001b[0m, in \u001b[0;36mmap_array\u001b[1;34m(arr, mapper, na_action, convert)\u001b[0m\n\u001b[0;32m   1812\u001b[0m values \u001b[39m=\u001b[39m arr\u001b[39m.\u001b[39mastype(\u001b[39mobject\u001b[39m, copy\u001b[39m=\u001b[39m\u001b[39mFalse\u001b[39;00m)\n\u001b[0;32m   1813\u001b[0m \u001b[39mif\u001b[39;00m na_action \u001b[39mis\u001b[39;00m \u001b[39mNone\u001b[39;00m:\n\u001b[1;32m-> 1814\u001b[0m     \u001b[39mreturn\u001b[39;00m lib\u001b[39m.\u001b[39;49mmap_infer(values, mapper, convert\u001b[39m=\u001b[39;49mconvert)\n\u001b[0;32m   1815\u001b[0m \u001b[39melse\u001b[39;00m:\n\u001b[0;32m   1816\u001b[0m     \u001b[39mreturn\u001b[39;00m lib\u001b[39m.\u001b[39mmap_infer_mask(\n\u001b[0;32m   1817\u001b[0m         values, mapper, mask\u001b[39m=\u001b[39misna(values)\u001b[39m.\u001b[39mview(np\u001b[39m.\u001b[39muint8), convert\u001b[39m=\u001b[39mconvert\n\u001b[0;32m   1818\u001b[0m     )\n",
      "File \u001b[1;32mlib.pyx:2920\u001b[0m, in \u001b[0;36mpandas._libs.lib.map_infer\u001b[1;34m()\u001b[0m\n",
      "\u001b[1;32me:\\MINHHIEU\\Bài Tập\\Đại Học\\Sophomore\\Python\\oh damn\\Final_Python\\5. Phân tích bình luận.ipynb Cell 6\u001b[0m line \u001b[0;36m2\n\u001b[0;32m      <a href='vscode-notebook-cell:/e%3A/MINHHIEU/B%C3%A0i%20T%E1%BA%ADp/%C4%90%E1%BA%A1i%20H%E1%BB%8Dc/Sophomore/Python/oh%20damn/Final_Python/5.%20Ph%C3%A2n%20t%C3%ADch%20b%C3%ACnh%20lu%E1%BA%ADn.ipynb#X30sZmlsZQ%3D%3D?line=0'>1</a>\u001b[0m post_df_full1 \u001b[39m=\u001b[39m df_full\n\u001b[1;32m----> <a href='vscode-notebook-cell:/e%3A/MINHHIEU/B%C3%A0i%20T%E1%BA%ADp/%C4%90%E1%BA%A1i%20H%E1%BB%8Dc/Sophomore/Python/oh%20damn/Final_Python/5.%20Ph%C3%A2n%20t%C3%ADch%20b%C3%ACnh%20lu%E1%BA%ADn.ipynb#X30sZmlsZQ%3D%3D?line=1'>2</a>\u001b[0m post_df_full1[\u001b[39m'\u001b[39m\u001b[39mreactions\u001b[39m\u001b[39m'\u001b[39m] \u001b[39m=\u001b[39m post_df_full1[\u001b[39m'\u001b[39m\u001b[39mreactions\u001b[39m\u001b[39m'\u001b[39m]\u001b[39m.\u001b[39mapply(\u001b[39mlambda\u001b[39;00m x : \u001b[39mdict\u001b[39m(\u001b[39meval\u001b[39;49m(x)) )\n\u001b[0;32m      <a href='vscode-notebook-cell:/e%3A/MINHHIEU/B%C3%A0i%20T%E1%BA%ADp/%C4%90%E1%BA%A1i%20H%E1%BB%8Dc/Sophomore/Python/oh%20damn/Final_Python/5.%20Ph%C3%A2n%20t%C3%ADch%20b%C3%ACnh%20lu%E1%BA%ADn.ipynb#X30sZmlsZQ%3D%3D?line=2'>3</a>\u001b[0m post_df_full_reactions \u001b[39m=\u001b[39m post_df_full1[\u001b[39m'\u001b[39m\u001b[39mreactions\u001b[39m\u001b[39m'\u001b[39m]\u001b[39m.\u001b[39mapply(pd\u001b[39m.\u001b[39mSeries )\n\u001b[0;32m      <a href='vscode-notebook-cell:/e%3A/MINHHIEU/B%C3%A0i%20T%E1%BA%ADp/%C4%90%E1%BA%A1i%20H%E1%BB%8Dc/Sophomore/Python/oh%20damn/Final_Python/5.%20Ph%C3%A2n%20t%C3%ADch%20b%C3%ACnh%20lu%E1%BA%ADn.ipynb#X30sZmlsZQ%3D%3D?line=3'>4</a>\u001b[0m \u001b[39m# Merge expanded columns into dataframe\u001b[39;00m\n",
      "\u001b[1;31mTypeError\u001b[0m: eval() arg 1 must be a string, bytes or code object"
     ]
    }
   ],
   "source": [
    "post_df_full1 = df_full\n",
    "post_df_full1['reactions'] = post_df_full1['reactions'].apply(lambda x : dict(eval(x)) )\n",
    "post_df_full_reactions = post_df_full1['reactions'].apply(pd.Series )\n",
    "# Merge expanded columns into dataframe\n",
    "post_df_full_with_reactions = pd.concat([post_df_full1, post_df_full_reactions], axis=1).drop('reactions', axis=1)\n",
    "post_df_full_with_reactions[['post_text','thích','yêu thích','haha','wow','buồn','phẫn nộ','thương thương',\n",
    "                                 'shares','comments','reaction_count']]"
   ]
  },
  {
   "cell_type": "code",
   "execution_count": null,
   "metadata": {},
   "outputs": [],
   "source": []
  },
  {
   "cell_type": "code",
   "execution_count": 37,
   "metadata": {},
   "outputs": [],
   "source": [
    "post_list=post_list.tolist()"
   ]
  },
  {
   "cell_type": "code",
   "execution_count": 48,
   "metadata": {},
   "outputs": [
    {
     "name": "stdout",
     "output_type": "stream",
     "text": [
      "0     [{'comment_id': '1085531565938845', 'comment_u...\n",
      "1                                                    []\n",
      "2     [{'comment_id': '1283224239043193', 'comment_u...\n",
      "3     [{'comment_id': '1329690737667516', 'comment_u...\n",
      "4     [{'comment_id': '1848961142226958', 'comment_u...\n",
      "                            ...                        \n",
      "95                                                   []\n",
      "96                                                   []\n",
      "97                                                   []\n",
      "98                                                   []\n",
      "99                                                   []\n",
      "Name: comments_full, Length: 100, dtype: object\n"
     ]
    },
    {
     "ename": "TypeError",
     "evalue": "string indices must be integers, not 'str'",
     "output_type": "error",
     "traceback": [
      "\u001b[1;31m---------------------------------------------------------------------------\u001b[0m",
      "\u001b[1;31mTypeError\u001b[0m                                 Traceback (most recent call last)",
      "\u001b[1;32me:\\MINHHIEU\\Bài Tập\\Đại Học\\Sophomore\\Python\\oh damn\\Final_Python\\5. Phân tích bình luận.ipynb Cell 9\u001b[0m line \u001b[0;36m1\n\u001b[0;32m     <a href='vscode-notebook-cell:/e%3A/MINHHIEU/B%C3%A0i%20T%E1%BA%ADp/%C4%90%E1%BA%A1i%20H%E1%BB%8Dc/Sophomore/Python/oh%20damn/Final_Python/5.%20Ph%C3%A2n%20t%C3%ADch%20b%C3%ACnh%20lu%E1%BA%ADn.ipynb#X16sZmlsZQ%3D%3D?line=12'>13</a>\u001b[0m     \u001b[39mif\u001b[39;00m \u001b[39mlen\u001b[39m(df_full[\u001b[39m'\u001b[39m\u001b[39mcomments_full\u001b[39m\u001b[39m'\u001b[39m]) \u001b[39m>\u001b[39m \u001b[39m0\u001b[39m:\n\u001b[0;32m     <a href='vscode-notebook-cell:/e%3A/MINHHIEU/B%C3%A0i%20T%E1%BA%ADp/%C4%90%E1%BA%A1i%20H%E1%BB%8Dc/Sophomore/Python/oh%20damn/Final_Python/5.%20Ph%C3%A2n%20t%C3%ADch%20b%C3%ACnh%20lu%E1%BA%ADn.ipynb#X16sZmlsZQ%3D%3D?line=13'>14</a>\u001b[0m       \u001b[39mprint\u001b[39m(df_full[\u001b[39m'\u001b[39m\u001b[39mcomments_full\u001b[39m\u001b[39m'\u001b[39m])\n\u001b[1;32m---> <a href='vscode-notebook-cell:/e%3A/MINHHIEU/B%C3%A0i%20T%E1%BA%ADp/%C4%90%E1%BA%A1i%20H%E1%BB%8Dc/Sophomore/Python/oh%20damn/Final_Python/5.%20Ph%C3%A2n%20t%C3%ADch%20b%C3%ACnh%20lu%E1%BA%ADn.ipynb#X16sZmlsZQ%3D%3D?line=14'>15</a>\u001b[0m       res\u001b[39m.\u001b[39mappend([comment[\u001b[39m'\u001b[39;49m\u001b[39mcomment_text\u001b[39;49m\u001b[39m'\u001b[39;49m] \u001b[39mfor\u001b[39;00m comment \u001b[39min\u001b[39;00m df_full[\u001b[39m'\u001b[39m\u001b[39mcomments_full\u001b[39m\u001b[39m'\u001b[39m] ])\n\u001b[0;32m     <a href='vscode-notebook-cell:/e%3A/MINHHIEU/B%C3%A0i%20T%E1%BA%ADp/%C4%90%E1%BA%A1i%20H%E1%BB%8Dc/Sophomore/Python/oh%20damn/Final_Python/5.%20Ph%C3%A2n%20t%C3%ADch%20b%C3%ACnh%20lu%E1%BA%ADn.ipynb#X16sZmlsZQ%3D%3D?line=15'>16</a>\u001b[0m \u001b[39mprint\u001b[39m(\u001b[39mlen\u001b[39m(res))\n\u001b[0;32m     <a href='vscode-notebook-cell:/e%3A/MINHHIEU/B%C3%A0i%20T%E1%BA%ADp/%C4%90%E1%BA%A1i%20H%E1%BB%8Dc/Sophomore/Python/oh%20damn/Final_Python/5.%20Ph%C3%A2n%20t%C3%ADch%20b%C3%ACnh%20lu%E1%BA%ADn.ipynb#X16sZmlsZQ%3D%3D?line=16'>17</a>\u001b[0m \u001b[39mprint\u001b[39m(res)\n",
      "\u001b[1;31mTypeError\u001b[0m: string indices must be integers, not 'str'"
     ]
    }
   ],
   "source": [
    "# Thuật toán in ra toàn bộ comments và thông tin của người comment theo từng bài viết.\n",
    "# x = len(df_full['comments_full'])\n",
    "# res = []\n",
    "# for i in range(x):\n",
    "#     res.append(df_full['comments_full'])\n",
    "    \n",
    "# res\n",
    "\n",
    "\n",
    "\n",
    "res = []\n",
    "for post in df_full:\n",
    "    if len(df_full['comments_full']) > 0:\n",
    "      print(df_full['comments_full'])\n",
    "      res.append([comment['comment_text'] for comment in df_full['comments_full'] ])\n",
    "print(len(res))\n",
    "print(res)\n",
    "\n",
    "\n",
    "\n"
   ]
  },
  {
   "cell_type": "code",
   "execution_count": null,
   "metadata": {},
   "outputs": [
    {
     "name": "stdout",
     "output_type": "stream",
     "text": [
      "71\n",
      "599\n"
     ]
    }
   ],
   "source": [
    "x = max(res)\n",
    "print(x.count('comment_text'))\n",
    "print(max(df_full['comments']))"
   ]
  },
  {
   "cell_type": "code",
   "execution_count": null,
   "metadata": {},
   "outputs": [],
   "source": []
  },
  {
   "cell_type": "code",
   "execution_count": null,
   "metadata": {},
   "outputs": [],
   "source": []
  },
  {
   "cell_type": "code",
   "execution_count": null,
   "metadata": {},
   "outputs": [],
   "source": []
  }
 ],
 "metadata": {
  "kernelspec": {
   "display_name": "Python 3",
   "language": "python",
   "name": "python3"
  },
  "language_info": {
   "codemirror_mode": {
    "name": "ipython",
    "version": 3
   },
   "file_extension": ".py",
   "mimetype": "text/x-python",
   "name": "python",
   "nbconvert_exporter": "python",
   "pygments_lexer": "ipython3",
   "version": "3.12.0"
  }
 },
 "nbformat": 4,
 "nbformat_minor": 2
}
