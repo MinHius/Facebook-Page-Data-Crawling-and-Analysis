{
 "cells": [
  {
   "cell_type": "markdown",
   "metadata": {},
   "source": [
    "# Facebook Data Crawling"
   ]
  },
  {
   "cell_type": "code",
   "execution_count": 33,
   "metadata": {},
   "outputs": [
    {
     "name": "stdout",
     "output_type": "stream",
     "text": [
      "Requirement already satisfied: facebook_scraper in c:\\users\\hp\\appdata\\local\\programs\\python\\python312\\lib\\site-packages (0.2.59)\n",
      "Requirement already satisfied: pandas in c:\\users\\hp\\appdata\\local\\programs\\python\\python312\\lib\\site-packages (2.1.2)\n",
      "Requirement already satisfied: numpy in c:\\users\\hp\\appdata\\local\\programs\\python\\python312\\lib\\site-packages (1.26.1)\n",
      "Requirement already satisfied: dateparser<2.0.0,>=1.0.0 in c:\\users\\hp\\appdata\\local\\programs\\python\\python312\\lib\\site-packages (from facebook_scraper) (1.1.8)\n",
      "Requirement already satisfied: demjson3<4.0.0,>=3.0.5 in c:\\users\\hp\\appdata\\local\\programs\\python\\python312\\lib\\site-packages (from facebook_scraper) (3.0.6)\n",
      "Requirement already satisfied: requests-html<0.11.0,>=0.10.0 in c:\\users\\hp\\appdata\\local\\programs\\python\\python312\\lib\\site-packages (from facebook_scraper) (0.10.0)\n",
      "Requirement already satisfied: python-dateutil>=2.8.2 in c:\\users\\hp\\appdata\\local\\programs\\python\\python312\\lib\\site-packages (from pandas) (2.8.2)\n",
      "Requirement already satisfied: pytz>=2020.1 in c:\\users\\hp\\appdata\\local\\programs\\python\\python312\\lib\\site-packages (from pandas) (2023.3.post1)\n",
      "Requirement already satisfied: tzdata>=2022.1 in c:\\users\\hp\\appdata\\local\\programs\\python\\python312\\lib\\site-packages (from pandas) (2023.3)\n",
      "Requirement already satisfied: regex!=2019.02.19,!=2021.8.27 in c:\\users\\hp\\appdata\\local\\programs\\python\\python312\\lib\\site-packages (from dateparser<2.0.0,>=1.0.0->facebook_scraper) (2023.10.3)\n",
      "Requirement already satisfied: tzlocal in c:\\users\\hp\\appdata\\local\\programs\\python\\python312\\lib\\site-packages (from dateparser<2.0.0,>=1.0.0->facebook_scraper) (5.2)\n",
      "Requirement already satisfied: six>=1.5 in c:\\users\\hp\\appdata\\local\\programs\\python\\python312\\lib\\site-packages (from python-dateutil>=2.8.2->pandas) (1.16.0)\n",
      "Requirement already satisfied: requests in c:\\users\\hp\\appdata\\local\\programs\\python\\python312\\lib\\site-packages (from requests-html<0.11.0,>=0.10.0->facebook_scraper) (2.31.0)\n",
      "Requirement already satisfied: pyquery in c:\\users\\hp\\appdata\\local\\programs\\python\\python312\\lib\\site-packages (from requests-html<0.11.0,>=0.10.0->facebook_scraper) (2.0.0)\n",
      "Requirement already satisfied: fake-useragent in c:\\users\\hp\\appdata\\local\\programs\\python\\python312\\lib\\site-packages (from requests-html<0.11.0,>=0.10.0->facebook_scraper) (1.3.0)\n",
      "Requirement already satisfied: parse in c:\\users\\hp\\appdata\\local\\programs\\python\\python312\\lib\\site-packages (from requests-html<0.11.0,>=0.10.0->facebook_scraper) (1.19.1)\n",
      "Requirement already satisfied: bs4 in c:\\users\\hp\\appdata\\local\\programs\\python\\python312\\lib\\site-packages (from requests-html<0.11.0,>=0.10.0->facebook_scraper) (0.0.1)\n",
      "Requirement already satisfied: w3lib in c:\\users\\hp\\appdata\\local\\programs\\python\\python312\\lib\\site-packages (from requests-html<0.11.0,>=0.10.0->facebook_scraper) (2.1.2)\n",
      "Requirement already satisfied: pyppeteer>=0.0.14 in c:\\users\\hp\\appdata\\local\\programs\\python\\python312\\lib\\site-packages (from requests-html<0.11.0,>=0.10.0->facebook_scraper) (1.0.2)\n",
      "Requirement already satisfied: appdirs<2.0.0,>=1.4.3 in c:\\users\\hp\\appdata\\local\\programs\\python\\python312\\lib\\site-packages (from pyppeteer>=0.0.14->requests-html<0.11.0,>=0.10.0->facebook_scraper) (1.4.4)\n",
      "Requirement already satisfied: certifi>=2021 in c:\\users\\hp\\appdata\\local\\programs\\python\\python312\\lib\\site-packages (from pyppeteer>=0.0.14->requests-html<0.11.0,>=0.10.0->facebook_scraper) (2023.7.22)\n",
      "Requirement already satisfied: importlib-metadata>=1.4 in c:\\users\\hp\\appdata\\local\\programs\\python\\python312\\lib\\site-packages (from pyppeteer>=0.0.14->requests-html<0.11.0,>=0.10.0->facebook_scraper) (6.8.0)\n",
      "Requirement already satisfied: pyee<9.0.0,>=8.1.0 in c:\\users\\hp\\appdata\\local\\programs\\python\\python312\\lib\\site-packages (from pyppeteer>=0.0.14->requests-html<0.11.0,>=0.10.0->facebook_scraper) (8.2.2)\n",
      "Requirement already satisfied: tqdm<5.0.0,>=4.42.1 in c:\\users\\hp\\appdata\\local\\programs\\python\\python312\\lib\\site-packages (from pyppeteer>=0.0.14->requests-html<0.11.0,>=0.10.0->facebook_scraper) (4.66.1)\n",
      "Requirement already satisfied: urllib3<2.0.0,>=1.25.8 in c:\\users\\hp\\appdata\\local\\programs\\python\\python312\\lib\\site-packages (from pyppeteer>=0.0.14->requests-html<0.11.0,>=0.10.0->facebook_scraper) (1.26.18)\n",
      "Requirement already satisfied: websockets<11.0,>=10.0 in c:\\users\\hp\\appdata\\local\\programs\\python\\python312\\lib\\site-packages (from pyppeteer>=0.0.14->requests-html<0.11.0,>=0.10.0->facebook_scraper) (10.4)\n",
      "Requirement already satisfied: beautifulsoup4 in c:\\users\\hp\\appdata\\local\\programs\\python\\python312\\lib\\site-packages (from bs4->requests-html<0.11.0,>=0.10.0->facebook_scraper) (4.12.2)\n",
      "Requirement already satisfied: lxml>=2.1 in c:\\users\\hp\\appdata\\local\\programs\\python\\python312\\lib\\site-packages (from pyquery->requests-html<0.11.0,>=0.10.0->facebook_scraper) (4.9.3)\n",
      "Requirement already satisfied: cssselect>=1.2.0 in c:\\users\\hp\\appdata\\local\\programs\\python\\python312\\lib\\site-packages (from pyquery->requests-html<0.11.0,>=0.10.0->facebook_scraper) (1.2.0)\n",
      "Requirement already satisfied: charset-normalizer<4,>=2 in c:\\users\\hp\\appdata\\local\\programs\\python\\python312\\lib\\site-packages (from requests->requests-html<0.11.0,>=0.10.0->facebook_scraper) (3.3.2)\n",
      "Requirement already satisfied: idna<4,>=2.5 in c:\\users\\hp\\appdata\\local\\programs\\python\\python312\\lib\\site-packages (from requests->requests-html<0.11.0,>=0.10.0->facebook_scraper) (3.4)\n",
      "Requirement already satisfied: zipp>=0.5 in c:\\users\\hp\\appdata\\local\\programs\\python\\python312\\lib\\site-packages (from importlib-metadata>=1.4->pyppeteer>=0.0.14->requests-html<0.11.0,>=0.10.0->facebook_scraper) (3.17.0)\n",
      "Requirement already satisfied: colorama in c:\\users\\hp\\appdata\\local\\programs\\python\\python312\\lib\\site-packages (from tqdm<5.0.0,>=4.42.1->pyppeteer>=0.0.14->requests-html<0.11.0,>=0.10.0->facebook_scraper) (0.4.6)\n",
      "Requirement already satisfied: soupsieve>1.2 in c:\\users\\hp\\appdata\\local\\programs\\python\\python312\\lib\\site-packages (from beautifulsoup4->bs4->requests-html<0.11.0,>=0.10.0->facebook_scraper) (2.5)\n",
      "Note: you may need to restart the kernel to use updated packages.\n"
     ]
    }
   ],
   "source": [
    "%pip install facebook_scraper pandas numpy"
   ]
  },
  {
   "cell_type": "code",
   "execution_count": 34,
   "metadata": {},
   "outputs": [],
   "source": [
    "from facebook_scraper import get_posts\n",
    "import pandas as pd\n",
    "import numpy as np"
   ]
  },
  {
   "cell_type": "markdown",
   "metadata": {},
   "source": [
    "## Crawl dữ liệu."
   ]
  },
  {
   "cell_type": "code",
   "execution_count": 35,
   "metadata": {},
   "outputs": [],
   "source": [
    "FANPAGE_LINK =\"hotwheels\"\n",
    "FOLDER_PATH = \"Data/\"\n",
    "COOKIE_PATH = \"./cookies.txt\"\n",
    "\n",
    "PAGES_NUMBER = 10 # Number of pages to crawl"
   ]
  },
  {
   "cell_type": "code",
   "execution_count": 41,
   "metadata": {},
   "outputs": [
    {
     "ename": "FileNotFoundError",
     "evalue": "[Errno 2] No such file or directory: './cookies.txt'",
     "output_type": "error",
     "traceback": [
      "\u001b[1;31m---------------------------------------------------------------------------\u001b[0m",
      "\u001b[1;31mFileNotFoundError\u001b[0m                         Traceback (most recent call last)",
      "\u001b[1;32mMinHius\\Final_Python\\Cào dữ liệu.ipynb Cell 6\u001b[0m line \u001b[0;36m2\n\u001b[0;32m      <a href='vscode-notebook-cell://github/MinHius/Final_Python/C%C3%A0o%20d%E1%BB%AF%20li%E1%BB%87u.ipynb#W5sdnNjb2RlLXZmcw%3D%3D?line=0'>1</a>\u001b[0m post_list \u001b[39m=\u001b[39m []\n\u001b[1;32m----> <a href='vscode-notebook-cell://github/MinHius/Final_Python/C%C3%A0o%20d%E1%BB%AF%20li%E1%BB%87u.ipynb#W5sdnNjb2RlLXZmcw%3D%3D?line=1'>2</a>\u001b[0m \u001b[39mfor\u001b[39;00m post \u001b[39min\u001b[39;00m get_posts(FANPAGE_LINK,\n\u001b[0;32m      <a href='vscode-notebook-cell://github/MinHius/Final_Python/C%C3%A0o%20d%E1%BB%AF%20li%E1%BB%87u.ipynb#W5sdnNjb2RlLXZmcw%3D%3D?line=2'>3</a>\u001b[0m                     options\u001b[39m=\u001b[39;49m{\u001b[39m\"\u001b[39;49m\u001b[39mcomments\u001b[39;49m\u001b[39m\"\u001b[39;49m: \u001b[39mTrue\u001b[39;49;00m, \u001b[39m\"\u001b[39;49m\u001b[39mreactions\u001b[39;49m\u001b[39m\"\u001b[39;49m: \u001b[39mTrue\u001b[39;49;00m, \u001b[39m\"\u001b[39;49m\u001b[39mallow_extra_requests\u001b[39;49m\u001b[39m\"\u001b[39;49m: \u001b[39mTrue\u001b[39;49;00m},\n\u001b[0;32m      <a href='vscode-notebook-cell://github/MinHius/Final_Python/C%C3%A0o%20d%E1%BB%AF%20li%E1%BB%87u.ipynb#W5sdnNjb2RlLXZmcw%3D%3D?line=3'>4</a>\u001b[0m                     extra_info\u001b[39m=\u001b[39;49m\u001b[39mTrue\u001b[39;49;00m, pages\u001b[39m=\u001b[39;49mPAGES_NUMBER, cookies\u001b[39m=\u001b[39;49mCOOKIE_PATH):\n\u001b[0;32m      <a href='vscode-notebook-cell://github/MinHius/Final_Python/C%C3%A0o%20d%E1%BB%AF%20li%E1%BB%87u.ipynb#W5sdnNjb2RlLXZmcw%3D%3D?line=4'>5</a>\u001b[0m     \u001b[39mprint\u001b[39m(post)\n\u001b[0;32m      <a href='vscode-notebook-cell://github/MinHius/Final_Python/C%C3%A0o%20d%E1%BB%AF%20li%E1%BB%87u.ipynb#W5sdnNjb2RlLXZmcw%3D%3D?line=5'>6</a>\u001b[0m     post_list\u001b[39m.\u001b[39mappend(post)\n",
      "File \u001b[1;32mc:\\Users\\HP\\AppData\\Local\\Programs\\Python\\Python312\\Lib\\site-packages\\facebook_scraper\\__init__.py:196\u001b[0m, in \u001b[0;36mget_posts\u001b[1;34m(account, group, post_urls, hashtag, credentials, **kwargs)\u001b[0m\n\u001b[0;32m    194\u001b[0m \u001b[39mif\u001b[39;00m cookies \u001b[39mis\u001b[39;00m \u001b[39mnot\u001b[39;00m \u001b[39mNone\u001b[39;00m \u001b[39mand\u001b[39;00m credentials \u001b[39mis\u001b[39;00m \u001b[39mnot\u001b[39;00m \u001b[39mNone\u001b[39;00m:\n\u001b[0;32m    195\u001b[0m     \u001b[39mraise\u001b[39;00m \u001b[39mValueError\u001b[39;00m(\u001b[39m\"\u001b[39m\u001b[39mCan\u001b[39m\u001b[39m'\u001b[39m\u001b[39mt use cookies and credentials arguments at the same time\u001b[39m\u001b[39m\"\u001b[39m)\n\u001b[1;32m--> 196\u001b[0m set_cookies(cookies)\n\u001b[0;32m    198\u001b[0m options: Union[Dict[\u001b[39mstr\u001b[39m, Any], Set[\u001b[39mstr\u001b[39m]] \u001b[39m=\u001b[39m kwargs\u001b[39m.\u001b[39msetdefault(\u001b[39m'\u001b[39m\u001b[39moptions\u001b[39m\u001b[39m'\u001b[39m, {})\n\u001b[0;32m    199\u001b[0m \u001b[39mif\u001b[39;00m \u001b[39misinstance\u001b[39m(options, \u001b[39mset\u001b[39m):\n",
      "File \u001b[1;32mc:\\Users\\HP\\AppData\\Local\\Programs\\Python\\Python312\\Lib\\site-packages\\facebook_scraper\\__init__.py:40\u001b[0m, in \u001b[0;36mset_cookies\u001b[1;34m(cookies)\u001b[0m\n\u001b[0;32m     38\u001b[0m \u001b[39melse\u001b[39;00m:\n\u001b[0;32m     39\u001b[0m     \u001b[39mtry\u001b[39;00m:\n\u001b[1;32m---> 40\u001b[0m         cookies \u001b[39m=\u001b[39m parse_cookie_file(cookies)\n\u001b[0;32m     41\u001b[0m     \u001b[39mexcept\u001b[39;00m \u001b[39mValueError\u001b[39;00m \u001b[39mas\u001b[39;00m e:\n\u001b[0;32m     42\u001b[0m         \u001b[39mraise\u001b[39;00m exceptions\u001b[39m.\u001b[39mInvalidCookies(\u001b[39mf\u001b[39m\u001b[39m\"\u001b[39m\u001b[39mCookies are in an invalid format: \u001b[39m\u001b[39m{\u001b[39;00me\u001b[39m}\u001b[39;00m\u001b[39m\"\u001b[39m)\n",
      "File \u001b[1;32mc:\\Users\\HP\\AppData\\Local\\Programs\\Python\\Python312\\Lib\\site-packages\\facebook_scraper\\utils.py:221\u001b[0m, in \u001b[0;36mparse_cookie_file\u001b[1;34m(filename)\u001b[0m\n\u001b[0;32m    218\u001b[0m \u001b[39mdef\u001b[39;00m \u001b[39mparse_cookie_file\u001b[39m(filename: \u001b[39mstr\u001b[39m) \u001b[39m-\u001b[39m\u001b[39m>\u001b[39m RequestsCookieJar:\n\u001b[0;32m    219\u001b[0m     jar \u001b[39m=\u001b[39m RequestsCookieJar()\n\u001b[1;32m--> 221\u001b[0m     \u001b[39mwith\u001b[39;00m \u001b[39mopen\u001b[39;49m(filename, mode\u001b[39m=\u001b[39;49m\u001b[39m'\u001b[39;49m\u001b[39mrt\u001b[39;49m\u001b[39m'\u001b[39;49m) \u001b[39mas\u001b[39;00m file:\n\u001b[0;32m    222\u001b[0m         data \u001b[39m=\u001b[39m file\u001b[39m.\u001b[39mread()\n\u001b[0;32m    224\u001b[0m     \u001b[39mtry\u001b[39;00m:\n",
      "\u001b[1;31mFileNotFoundError\u001b[0m: [Errno 2] No such file or directory: './cookies.txt'"
     ]
    }
   ],
   "source": [
    "post_list = []\n",
    "for post in get_posts(FANPAGE_LINK,\n",
    "                    options={\"comments\": True, \"reactions\": True, \"allow_extra_requests\": True},\n",
    "                    extra_info=True, pages=PAGES_NUMBER, cookies=COOKIE_PATH):\n",
    "    print(post)\n",
    "    post_list.append(post)"
   ]
  },
  {
   "cell_type": "code",
   "execution_count": null,
   "metadata": {},
   "outputs": [],
   "source": [
    "# Initialize dataframe to scrape Facebook post\n",
    "post_df_full = pd.DataFrame(columns = [])\n",
    "# Start to collect Facebook post data by facebook_scraper library\n",
    "for post in post_list:\n",
    "    post_entry = post\n",
    "    fb_post_df = pd.DataFrame.from_dict(post_entry, orient='index')\n",
    "    fb_post_df = fb_post_df.transpose()\n",
    "    post_df_full = post_df_full.append(fb_post_df)\n",
    "    print(post['post_id']+' get')"
   ]
  },
  {
   "cell_type": "markdown",
   "metadata": {},
   "source": [
    "## Lưu file và chuyển dict thành df."
   ]
  },
  {
   "cell_type": "code",
   "execution_count": null,
   "metadata": {},
   "outputs": [
    {
     "ename": "IndexError",
     "evalue": "list index out of range",
     "output_type": "error",
     "traceback": [
      "\u001b[0;31m---------------------------------------------------------------------------\u001b[0m",
      "\u001b[0;31mIndexError\u001b[0m                                Traceback (most recent call last)",
      "\u001b[1;32m/MinHius/Final_Python/Cào dữ liệu.ipynb Cell 9\u001b[0m line \u001b[0;36m2\n\u001b[1;32m      <a href='vscode-notebook-cell://github%2B7b2276223a312c22726566223a7b2274797065223a352c226964223a226d61696e227d7d/MinHius/Final_Python/C%C3%A0o%20d%E1%BB%AF%20li%E1%BB%87u.ipynb#X23sdnNjb2RlLXZmcw%3D%3D?line=0'>1</a>\u001b[0m \u001b[39m# Initialize dataframe to scrape Facebook post\u001b[39;00m\n\u001b[0;32m----> <a href='vscode-notebook-cell://github%2B7b2276223a312c22726566223a7b2274797065223a352c226964223a226d61696e227d7d/MinHius/Final_Python/C%C3%A0o%20d%E1%BB%AF%20li%E1%BB%87u.ipynb#X23sdnNjb2RlLXZmcw%3D%3D?line=1'>2</a>\u001b[0m post_df_full \u001b[39m=\u001b[39m pd\u001b[39m.\u001b[39mDataFrame(columns\u001b[39m=\u001b[39mpost_list[\u001b[39m0\u001b[39;49m]\u001b[39m.\u001b[39mkeys(), index\u001b[39m=\u001b[39m\u001b[39mrange\u001b[39m(\u001b[39mlen\u001b[39m(post_list)), data\u001b[39m=\u001b[39mpost_list)\n\u001b[1;32m      <a href='vscode-notebook-cell://github%2B7b2276223a312c22726566223a7b2274797065223a352c226964223a226d61696e227d7d/MinHius/Final_Python/C%C3%A0o%20d%E1%BB%AF%20li%E1%BB%87u.ipynb#X23sdnNjb2RlLXZmcw%3D%3D?line=3'>4</a>\u001b[0m \u001b[39m# To df\u001b[39;00m\n\u001b[1;32m      <a href='vscode-notebook-cell://github%2B7b2276223a312c22726566223a7b2274797065223a352c226964223a226d61696e227d7d/MinHius/Final_Python/C%C3%A0o%20d%E1%BB%AF%20li%E1%BB%87u.ipynb#X23sdnNjb2RlLXZmcw%3D%3D?line=4'>5</a>\u001b[0m path\u001b[39m=\u001b[39mFOLDER_PATH \u001b[39m+\u001b[39m FANPAGE_LINK \u001b[39m+\u001b[39m \u001b[39m\"\u001b[39m\u001b[39m.csv\u001b[39m\u001b[39m\"\u001b[39m\n",
      "\u001b[0;31mIndexError\u001b[0m: list index out of range"
     ]
    }
   ],
   "source": [
    "# Initialize dataframe to scrape Facebook post\n",
    "post_df_full = pd.DataFrame(columns=post_list[0].keys(), index=range(len(post_list)), data=post_list)\n",
    "\n",
    "# To df\n",
    "path=FOLDER_PATH + FANPAGE_LINK + \".csv\"\n",
    "post_df_full.to_csv(path, index=False)\n",
    "print(path)"
   ]
  },
  {
   "cell_type": "code",
   "execution_count": null,
   "metadata": {},
   "outputs": [],
   "source": [
    "post_df_full"
   ]
  }
 ],
 "metadata": {
  "kernelspec": {
   "display_name": "Python 3 (ipykernel)",
   "language": "python",
   "name": "python3"
  },
  "language_info": {
   "codemirror_mode": {
    "name": "ipython",
    "version": 3
   },
   "file_extension": ".py",
   "mimetype": "text/x-python",
   "name": "python",
   "nbconvert_exporter": "python",
   "pygments_lexer": "ipython3",
   "version": "3.12.0"
  }
 },
 "nbformat": 4,
 "nbformat_minor": 2
}
